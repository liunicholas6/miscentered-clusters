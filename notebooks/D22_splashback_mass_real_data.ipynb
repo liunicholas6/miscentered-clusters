{
 "cells": [
  {
   "cell_type": "markdown",
   "metadata": {},
   "source": [
    "## **Compute and fit galaxy profiles in IllustrisTNG**\n",
    "\n",
    "This notebook contains code for computing a galaxy profile from the IllustrisTNG simulations and then fitting it with the Diemer-Kravstov 2014 fitting formula. In addition to using the $\\texttt{splashback_tools}$ code in this repository, it also uses the $\\texttt{illustris_python}$ package which is available at: https://github.com/illustristng/illustris_python"
   ]
  },
  {
   "cell_type": "code",
   "execution_count": 1,
   "metadata": {},
   "outputs": [],
   "source": [
    "from splashback_tools.profiles import fit_profs, mc_chain\n",
    "import illustris_python as il\n",
    "import numpy as np\n",
    "import os\n",
    "import matplotlib.pyplot as plt\n",
    "\n",
    "%config InlineBackend.figure_format='retina'   # Makes inline plots look better (at least on mac)"
   ]
  },
  {
   "cell_type": "code",
   "execution_count": 2,
   "metadata": {},
   "outputs": [],
   "source": [
    "with np.load('real_data/data.npz') as file:\n",
    "    sigma = file['Sigma']\n",
    "    cov = file['cov']\n",
    "    \n",
    "rbin = np.logspace(np.log10(0.1),np.log10(60.),25)\n",
    "rmid = ((2./3.)*(rbin[1:]**3-rbin[:-1]**3)/(rbin[1:]**2-rbin[:-1]**2))"
   ]
  },
  {
   "cell_type": "code",
   "execution_count": 3,
   "metadata": {},
   "outputs": [
    {
     "data": {
      "text/plain": [
       "<ErrorbarContainer object of 3 artists>"
      ]
     },
     "execution_count": 3,
     "metadata": {},
     "output_type": "execute_result"
    },
    {
     "data": {
      "image/png": "[encoded data removed]",
      "text/plain": [
       "<Figure size 432x288 with 1 Axes>"
      ]
     },
     "metadata": {
      "image/png": {
       "height": 267,
       "width": 397
      },
      "needs_background": "light"
     },
     "output_type": "display_data"
    }
   ],
   "source": [
    "def log_ax(ax):\n",
    "    ax.set_xscale('log')\n",
    "    ax.set_yscale('log')\n",
    "    ax.set_ylabel(r\"$\\rho$\", fontsize=14)\n",
    "    ax.set_xlabel(r\"$r/R_{200m}$\", fontsize=14)    \n",
    "\n",
    "ax = plt.gca()\n",
    "ax.set_xscale('log')\n",
    "ax.set_yscale('log')\n",
    "ax.set_ylabel(r\"$\\Sigma$\", fontsize=14)\n",
    "ax.set_xlabel(r\"$R200m$\", fontsize=14)\n",
    "ax.errorbar(rbin, sigma, yerr = np.sqrt(np.diag(cov)), linewidth = 0.8)\n"
   ]
  },
  {
   "cell_type": "markdown",
   "metadata": {},
   "source": [
    "##### **Fit the galaxy density profiles**\n",
    "\n",
    "Now we can fit the profiles and estimate the splashback radii. All we need to do is run the fit_profs.fit_DK_14 function with the profiles as input. The input for this function is a tuple of the form (r, rho, cov) so we define a function get_data_vec to format our measured profiles so that they are accepted by the fit_profs_fit_DK_14 function. The fitting function can save the output if a save directory is specified. In this case we do not save the output and instead analyze it in this notebook. \n",
    "\n",
    "You will also need to specify a `basepath` for Multinest to run the sampler. I have specified this as `/u/samgolds/lib/splashback_tools/splashback_tools/multinest_samples`, but it will need to be changed to a directory on the computer you are working on.\n",
    "\n",
    "The output of the fit is an $11 \\times N$ dimensional array where $N$ is the number of multinest samples (multinest determines this based on convergence criterion). The first 9 columns are the DK14 model parameters. The 10th column is the weights and the 11th is the negative log likelihood. So to find the best fit we find the sample with minimum negative log likelihood. In practice we should run a dedicated minimizer afterwards, but this is good enough for now."
   ]
  },
  {
   "cell_type": "code",
   "execution_count": null,
   "metadata": {
    "scrolled": true
   },
   "outputs": [
    {
     "name": "stdout",
     "output_type": "stream",
     "text": [
      "\u001b[32mFitting profiles with multinest\u001b[0m\n",
      " *****************************************************\n",
      " MultiNest v3.10\n",
      " Copyright Farhan Feroz & Mike Hobson\n",
      " Release Jul 2015\n",
      "\n",
      " no. of live points =  500\n",
      " dimensionality =    9\n",
      " *****************************************************\n"
     ]
    }
   ],
   "source": [
    "from splashback_tools.profiles.mc_chain import McChain\n",
    "\n",
    "# Lambda expression to reformat profiles to input expected by fit_DK_14 function\n",
    "basepath = '/home/liunicholas6/projects/miscentered-clusters/splashback_tools/multinest_samples'\n",
    "data_vec = (rbin, sigma, cov)\n",
    "fit = fit_profs.fit_profile(data_vec, basepath, is_2d = True)\n",
    "theta = fit[0:9].T\n",
    "loglikes = fit[-1]\n",
    "weights = fit[-2]\n",
    "chain = McChain(weights, loglikes, theta = theta)"
   ]
  },
  {
   "cell_type": "markdown",
   "metadata": {},
   "source": [
    "# Plot Galaxy Profiles with Best Fit"
   ]
  },
  {
   "cell_type": "code",
   "execution_count": null,
   "metadata": {},
   "outputs": [],
   "source": [
    "# Get maximum likelihood\n",
    "for mbin in mbins:\n",
    "    chain = mbin['chain']\n",
    "    mbin['mle'] = chain.samples['theta'][np.argmin(chain.loglikes)]"
   ]
  },
  {
   "cell_type": "markdown",
   "metadata": {},
   "source": [
    "##### **Plot the galaxy density profiles with the bestfit**\n",
    "\n",
    "Check if the fits worked"
   ]
  },
  {
   "cell_type": "code",
   "execution_count": null,
   "metadata": {},
   "outputs": [],
   "source": [
    "r_thr = np.logspace(-1, np.log10(7), 100)\n",
    "\n",
    "fig, axs = plt.subplots(1, n_mbin)\n",
    "fig.set_size_inches(15,4.5)\n",
    "\n",
    "for ax, mbin in zip(axs, mbins):\n",
    "    prof = mbin['prof']\n",
    "\n",
    "    #Plot profile\n",
    "    ax.errorbar(prof['r'], prof['rho'], yerr = np.sqrt(np.diag(prof['cov'])), color = 'r', linewidth = 0.8)\n",
    "\n",
    "    #Set axes\n",
    "    ax.set_xscale('log')\n",
    "    ax.set_yscale('log')\n",
    "    ax.set_ylabel(r\"$\\rho$\", fontsize=14)\n",
    "    ax.set_xlabel(r\"$r/R_{200m}$\", fontsize=14)\n",
    "    \n",
    "    #Plot theory curves\n",
    "    ax.plot(r_thr, fit_d22.rho(mbin['mle'], r_thr), color='k', linewidth=0.7)\n",
    "\n",
    "axs[0].text(0.03, 0.05, r\"13$<\\log_{10}(M_{200m})<$13.5\",  \n",
    "            transform=axs[0].transAxes, fontsize=13)\n",
    "axs[1].text(0.03, 0.05, r\"13.5$<\\log_{10}(M_{200m})<$14\",  \n",
    "            transform=axs[1].transAxes, fontsize=13)\n",
    "axs[2].text(0.03, 0.05, r\"14$<\\log_{10}(M_{200m})<$14.5\",  \n",
    "            transform=axs[2].transAxes, fontsize=13)\n",
    "\n",
    "plt.tight_layout()"
   ]
  },
  {
   "cell_type": "markdown",
   "metadata": {},
   "source": [
    "##### **Determine splashback posterior**\n",
    "\n",
    "We can then determine the splashback radius by looping through the samples in the chain and determining the location of minimum log derivative for each sample. I will only do this for one of the cluster mass bins for now"
   ]
  },
  {
   "cell_type": "code",
   "execution_count": null,
   "metadata": {
    "scrolled": true
   },
   "outputs": [],
   "source": [
    "from tqdm import tqdm\n",
    "import os\n",
    "import joblib\n",
    "\n",
    "if 'OMP_NUM_THREADS' in os.environ.keys():\n",
    "    n_threads = int(os.environ['OMP_NUM_THREADS'])\n",
    "else:\n",
    "    n_threads = os.cpu_count()\n",
    "    \n",
    "r_log_deriv = np.logspace(-1, np.log10(7), 26)\n",
    "\n",
    "for mbin in mbins:\n",
    "    chain = mbin['chain']\n",
    "    samps = chain.samples['theta']\n",
    "    n = chain.n_samp\n",
    "\n",
    "    def get_log_derivs(ind):\n",
    "        samp = samps[ind]\n",
    "        return fit_d22.log_deriv_d22(samp, r_log_deriv)\n",
    "        \n",
    "    def get_rsps(ind):\n",
    "        samp = samps[ind]\n",
    "        return fit_d22.get_rsp(samp)\n",
    "    \n",
    "    \n",
    "    log_deriv = np.array(joblib.Parallel(n_threads)(joblib.delayed(get_log_derivs)(i)\n",
    "                                           for i in tqdm(range(n))))\n",
    "    \n",
    "    rsp = np.array(joblib.Parallel(n_threads)(joblib.delayed(get_rsps)(i)\n",
    "                                           for i in tqdm(range(n))))\n",
    "    \n",
    "    chain.add_samps(log_deriv = log_deriv, rsp = rsp)"
   ]
  },
  {
   "cell_type": "markdown",
   "metadata": {},
   "source": [
    "##### **Plot splashback posterior**"
   ]
  },
  {
   "cell_type": "code",
   "execution_count": null,
   "metadata": {
    "scrolled": true
   },
   "outputs": [],
   "source": [
    "ax = plt.gca()\n",
    "for i, mbin in enumerate(mbins):\n",
    "    mbin['chain'].plot_1d_posterior('rsp', ax, label = mbin['bounds'])"
   ]
  },
  {
   "cell_type": "markdown",
   "metadata": {},
   "source": [
    "##### **Plot constraints on logarithmic derivative**"
   ]
  },
  {
   "cell_type": "code",
   "execution_count": null,
   "metadata": {
    "scrolled": false
   },
   "outputs": [],
   "source": [
    "from scipy.interpolate import CubicSpline\n",
    "\n",
    "def plot_log_deriv_processed(ax, chain, r_log_deriv, r_thr):\n",
    "    \"\"\"\n",
    "    Plot smoothed density curve of splashback posterior\n",
    "    \"\"\"\n",
    "    \n",
    "    # Get 1 sigma interval on the derived chains\n",
    "    \n",
    "    lower_pts, upper_pts = chain.confidence_interval('log_deriv')\n",
    "    \n",
    "    lower_spline = CubicSpline(r_log_deriv, lower_pts)\n",
    "    upper_spline = CubicSpline(r_log_deriv, upper_pts)\n",
    "    \n",
    "    ax.fill_between(r_thr, lower_spline(r_thr), upper_spline(r_thr), alpha=0.5)\n",
    "    ax.set_xscale('log')\n",
    "\n",
    "# Initialize Figure   \n",
    "fig, ax_arr = plt.subplots(1, n_mbin)\n",
    "fig.set_size_inches(12, n_mbin)\n",
    "\n",
    "# Plot subplots and set axis label\n",
    "r_thr = np.logspace(-1, np.log10(5), 100)\n",
    "\n",
    "for i, mbin in enumerate(mbins):\n",
    "    ax = ax_arr[i]\n",
    "    ax.set_xlabel(r\"$r/R_{200m}$\", fontsize=14)\n",
    "    ax.set_ylabel(r\"$d\\log\\rho/d\\log r$\", fontsize=14)\n",
    "    \n",
    "    plot_log_deriv_processed(ax, mbin['chain'], r_log_deriv, r_thr)\n",
    "    \n",
    "\n",
    "plt.tight_layout()\n",
    "    "
   ]
  },
  {
   "cell_type": "markdown",
   "metadata": {},
   "source": [
    "# Splashback Mass"
   ]
  },
  {
   "cell_type": "markdown",
   "metadata": {},
   "source": [
    "Code creating a chain of msps for every cluster - splashback posterior sample combination (takes very long to run)"
   ]
  },
  {
   "cell_type": "code",
   "execution_count": null,
   "metadata": {
    "scrolled": true
   },
   "outputs": [],
   "source": [
    "# from colossus.halo import profile_diemer22, concentration\n",
    "# from colossus.cosmology import cosmology\n",
    "# cosmology.setCosmology('planck18')\n",
    "\n",
    "# def get_msp_posterior(mbin):\n",
    "#     clusters = mbin['clusters']\n",
    "#     n_clusters = len(clusters['R200m'])\n",
    "#     chain = mbin['chain']\n",
    "    \n",
    "#     def get_msps(ind):\n",
    "#         M200m = clusters['M200m'][ind]\n",
    "#         cosmology.setCosmology('planck18')\n",
    "#         c, _ = concentration.modelBhattacharya13(M200m, redshift, mdef = '200m')\n",
    "#         prof = profile_diemer22.ModelAProfile(M = M200m, c = c, mdef = '200m', z = redshift)\n",
    "        \n",
    "#         R200m = clusters['R200m'][ind]\n",
    "#         rsp = chain.samples['rsp'] * R200m * 1000\n",
    "#         return np.array([prof.enclosedMass(rsp_i) for rsp_i in rsp])\n",
    "    \n",
    "#     msps = np.concatenate(np.array(joblib.Parallel(n_threads)(joblib.delayed(get_msps)(i)\n",
    "#                                            for i in tqdm(range(n_clusters)))))\n",
    "    \n",
    "#     weights = np.tile(chain.weights, n_clusters)/n_clusters\n",
    "#     return McChain(weights = weights, msps = msps)\n",
    "\n",
    "# for mbin in mbins:\n",
    "#     mbin['msp_chain'] = get_msp_posterior(mbin)"
   ]
  },
  {
   "cell_type": "markdown",
   "metadata": {},
   "source": [
    "Code calculating the msp for every splashback posterior sample with the average M200m and R200m of the mass bin"
   ]
  },
  {
   "cell_type": "code",
   "execution_count": null,
   "metadata": {
    "scrolled": false
   },
   "outputs": [],
   "source": [
    "from colossus.halo import profile_diemer22, concentration\n",
    "from colossus.cosmology import cosmology\n",
    "cosmology.setCosmology('planck18')\n",
    "\n",
    "def get_msp_posterior(mbin):\n",
    "    clusters = mbin['clusters']\n",
    "    \n",
    "    #Generate profile\n",
    "    M200m = np.mean(clusters['M200m'])\n",
    "    c, _ = concentration.modelBhattacharya13(M200m, redshift, mdef = '200m')\n",
    "    prof = profile_diemer22.ModelAProfile(M = M200m, c = c, mdef = '200m', z = redshift)\n",
    "    \n",
    "    #Get splashback mass and add to chain\n",
    "    chain = mbin['chain']\n",
    "    R200m = np.mean(clusters['R200m'])\n",
    "    rsp = chain.samples['rsp'] * R200m * 1000\n",
    "    masses = np.array([prof.enclosedMass(rsp_i) for rsp_i in rsp])\n",
    "    chain.add_samps(mass = masses)\n",
    "    return masses\n",
    "\n",
    "for mbin in mbins:\n",
    "    get_msp_posterior(mbin)\n",
    "\n",
    "# def msp_post_estimate(mass_fn, label, mbin):\n",
    "#     R200m = np.average(mbin['clusters']['R200m'])\n",
    "#     chain = mbin['chain']\n",
    "#     rsp = chain.samples['rsp'] * R200m * 1000\n",
    "#     alpha = 10**chain.samples['theta'][:, 0]\n",
    "#     log_msp = np.log10(np.array([mass_fn(rsp[i], alpha[i], redshift) for i in range(chain.n_samp)]))\n",
    "#     chain.add_samps(**{label: log_msp})\n",
    "#     return log_msp\n",
    "\n",
    "# def estimate(Rsp, alpha, z):\n",
    "#     if alpha < 0.155:\n",
    "#         return float(\"nan\")\n",
    "#     return calc_mass.Method1(Rsp, alpha, z)\n",
    "\n",
    "# ax = plt.gca()\n",
    "# for i, mbin in enumerate(mbins):\n",
    "#     msp_post_estimate(estimate, 'log_msp_estimate', mbin)\n",
    "#     mbin['chain'].plot_1d_posterior('log_msp_estimate', ax, label = mbin['bounds'])\n",
    "    "
   ]
  },
  {
   "cell_type": "markdown",
   "metadata": {},
   "source": [
    "## Plot Splashback Mass Posteriors"
   ]
  },
  {
   "cell_type": "code",
   "execution_count": null,
   "metadata": {},
   "outputs": [],
   "source": [
    "ax = plt.gca()\n",
    "for mbin in mbins:\n",
    "    chain = mbin['chain']\n",
    "    chain.add_samps(log_mass = np.log10(chain.samples['mass']))\n",
    "    chain.plot_1d_posterior('log_mass', ax, label = mbin['bounds'])\n",
    "ax.set_xlabel(\"log Splashback Mass\")"
   ]
  },
  {
   "cell_type": "code",
   "execution_count": null,
   "metadata": {},
   "outputs": [],
   "source": [
    "x = []\n",
    "y = []\n",
    "xerr = []\n",
    "yerr = []\n",
    "ax = plt.gca()\n",
    "for mbin in mbins:\n",
    "    R200m = np.mean(mbin['clusters']['R200m'])\n",
    "    chain = mbin['chain']\n",
    "    mu_rsp, sigma_rsp = chain.get_samp_stats('rsp')\n",
    "    mu_mass, sigma_mass = chain.get_samp_stats('mass')\n",
    "    x.append(mu_rsp * R200m)\n",
    "    y.append(mu_mass)\n",
    "    xerr.append(sigma_rsp * R200m)\n",
    "    yerr.append(sigma_mass)\n",
    "ax.errorbar(x = x, y = y, xerr = xerr, yerr = yerr)\n",
    "ax.set_xlabel(\"Splashback Radius\")\n",
    "ax.set_ylabel(\"Splashback Mass\")"
   ]
  },
  {
   "cell_type": "code",
   "execution_count": null,
   "metadata": {},
   "outputs": [],
   "source": [
    "import pickle"
   ]
  },
  {
   "cell_type": "code",
   "execution_count": null,
   "metadata": {},
   "outputs": [],
   "source": [
    "np.save('rsp', x)\n",
    "np.save('msp', y)\n",
    "np.save('rsp_err', xerr)\n",
    "np.save('msp_err', yerr)"
   ]
  },
  {
   "cell_type": "code",
   "execution_count": null,
   "metadata": {},
   "outputs": [],
   "source": []
  }
 ],
 "metadata": {
  "kernelspec": {
   "display_name": "Python 3 (ipykernel)",
   "language": "python",
   "name": "python3"
  },
  "language_info": {
   "codemirror_mode": {
    "name": "ipython",
    "version": 3
   },
   "file_extension": ".py",
   "mimetype": "text/x-python",
   "name": "python",
   "nbconvert_exporter": "python",
   "pygments_lexer": "ipython3",
   "version": "3.9.12"
  }
 },
 "nbformat": 4,
 "nbformat_minor": 4
}
