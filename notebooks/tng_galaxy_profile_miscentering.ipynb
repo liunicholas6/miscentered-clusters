{
 "cells": [
  {
   "cell_type": "markdown",
   "metadata": {},
   "source": [
    "## **Compute and fit galaxy profiles in IllustrisTNG**\n",
    "\n",
    "This notebook contains code for computing a galaxy profile from the IllustrisTNG simulations and then fitting it with the Diemer-Kravstov 2014 fitting formula. In addition to using the $\\texttt{splashback_tools}$ code in this repository, it also uses the $\\texttt{illustris_python}$ package which is available at: https://github.com/illustristng/illustris_python"
   ]
  },
  {
   "cell_type": "code",
   "execution_count": 1,
   "metadata": {},
   "outputs": [],
   "source": [
    "from splashback_tools.profiles import fit_d22, calc_profs_2D\n",
    "import illustris_python as il\n",
    "import numpy as np\n",
    "\n",
    "import matplotlib.pyplot as plt\n",
    "\n",
    "\n",
    "%config InlineBackend.figure_format='retina'   # Makes inline plots look better (at least on mac)"
   ]
  },
  {
   "cell_type": "code",
   "execution_count": 2,
   "metadata": {},
   "outputs": [],
   "source": [
    "def compute_weighted_profile(halo_center, dm_part_pos, bins, boxsize,\n",
    "                             weights, R200m=1, bin_stat=\"mean\"):\n",
    "    \"\"\"\n",
    "    Compute a single 3D profile of a specified input quantity. Note this\n",
    "    function is not used for computing density profiles, but instead for\n",
    "    computing quantities such as the velocity dispersion profile where the\n",
    "    volume of shells is irrelevant\n",
    "\n",
    "    Parameters\n",
    "    ----------\n",
    "    halo_center: 3*1 float array\n",
    "        Halo center position\n",
    "    dm_part_pos: Ndm*3 float array\n",
    "        Positions of all relevant dm particles\n",
    "    bins: Nbins*1 float array\n",
    "        Array containing edges of radial bins for profile calculations\n",
    "    boxsize    : float\n",
    "        Boxsize for periodic BC calculations\n",
    "    weights    : Ndm*1 float Array\n",
    "        Array containing weights for each particle. This is usually the quantity\n",
    "        for which the profile is computed\n",
    "    R200m      : float\n",
    "        Optional float containing R200m for rescaling in bins of r/R200m\n",
    "    bin_stat   : str\n",
    "        Optional string specifying whether to compute mean or median profile\n",
    "\n",
    "    Returns\n",
    "    -------\n",
    "    avg_r: Nbin*1 array\n",
    "        Average radial position of each density bin\n",
    "    avg_prof: Nbin*1 array\n",
    "        Aveage profile value in each radial bin\n",
    "    \"\"\"\n",
    "\n",
    "\n",
    "    # Speed up calculation by excluding box around max radius\n",
    "    delta_x = np.abs(dm_part_pos.T[0]-halo_center[0])\n",
    "    delta_y = np.abs(dm_part_pos.T[1]-halo_center[1])\n",
    "    delta_z = np.abs(dm_part_pos.T[2]-halo_center[2])\n",
    "\n",
    "    R_max = R200m*np.max(bins)\n",
    "\n",
    "    box_filt = np.where(((delta_x <= R_max) | (boxsize-delta_x <= R_max)) &\n",
    "                        ((delta_y <= R_max) | (boxsize-delta_y <= R_max)) &\n",
    "                        ((delta_z <= R_max) | (boxsize-delta_z <= R_max)))\n",
    "\n",
    "    dm_part_pos = dm_part_pos[box_filt]\n",
    "    weights = weights[box_filt]\n",
    "\n",
    "    # Account for periodic bc\n",
    "    dev = dm_part_pos-halo_center\n",
    "\n",
    "    for ind, q in enumerate(dev.T):\n",
    "        q = np.where(np.abs(q) > 0.5 * boxsize, boxsize-np.abs(q), q)\n",
    "        dev.T[ind] = q\n",
    "\n",
    "    # Compute and return profile\n",
    "    r = np.linalg.norm(dev, axis=1)/R200m\n",
    "\n",
    "    avg_prof, avg_r, _ = binned_statistic(r, weights, bin_stat, bins)\n",
    "    avg_r = 1/2*(avg_r[1:]+avg_r[0:-1])\n",
    "\n",
    "    return avg_r, avg_prof"
   ]
  },
  {
   "cell_type": "markdown",
   "metadata": {},
   "source": [
    "#### **Load simulation data**\n",
    "\n",
    "First we need to load the relevant python packages, as well as the IllustrisTNG simulation data. In this case, I have already downloaded the snapshot 99 group catalog from the TNG-300_3 simulation and saved it in $\\texttt{sample_data/TNG300_3/}$. \n",
    "\n",
    "\n",
    "Snapshot 99 corresponds to redshift $z=0$ (i.e. present day). The group catalog contains information such as the mass and location of clusters, as well as that of galaxies (subhalos). The remainder of the simulation information is stored in the snapshot files which contain all of the particle locations and are much larger. We use three functions from the **illustris_python** package\n",
    "\n",
    "* **il.groupcat.loadHeader:** loads the header file which contains general information about the simulation you are considering. (If you want to see everything contained in the header, you can execute \"print(header)\")\n",
    "* **il.groupcat.loadHalos:** loads the halo catalog which contains various halo quantities (listed here: https://www.tng-project.org/data/docs/specifications/#sec2a). In this case I just load their GroupPos, M200m, and R200m. The GroupPos is defined as the center of the most gravitationally bound particle in the halo.\n",
    "* **il.groupcat.loadSubhalos:** loads the subhalo catalog which contains information about the subhalos (galaxies). All available quantities are listed here: https://www.tng-project.org/data/docs/specifications/#sec2b. Here I load the SubhaloPos, SubhaloFlag, and SubhaloMassType. SubhaloFlag just indicates some subhalos that should generally be excluded from an analysis. SubhaloMassType is a $N_{\\rm subhalo}\\times 6$ dimensional array containing the mass of each particle type in the subhalo. I use this to place a cut on the stellar mass of the subhalos we use."
   ]
  },
  {
   "cell_type": "code",
   "execution_count": 3,
   "metadata": {},
   "outputs": [
    {
     "name": "stdout",
     "output_type": "stream",
     "text": [
      "Loading Header:\n",
      "Loading Group Catalog:\n",
      "Loading Subhalo Catalog\n"
     ]
    }
   ],
   "source": [
    "# Specify simulation and snapshot here\n",
    "snapshot_ind = 99\n",
    "base_path    = 'sample_data/TNG300_3'\n",
    "print(\"Loading Header:\")\n",
    "header = il.groupcat.loadHeader(base_path, snapshot_ind)\n",
    "redshift = header['Redshift']\n",
    "scale_factor = 1/(1+redshift)\n",
    "boxsize = header['BoxSize']/1000*scale_factor #  Mpc/h\n",
    "\n",
    "# Load group\n",
    "print(\"Loading Group Catalog:\")\n",
    "halo_cat_fields = ['GroupPos', 'Group_M_Mean200',  'Group_R_Mean200', 'GroupFirstSub']\n",
    "halo_cat = il.groupcat.loadHalos(base_path, snapshot_ind, halo_cat_fields)\n",
    "\n",
    "\n",
    "print(\"Loading Subhalo Catalog\")\n",
    "fields = ['SubhaloPos', 'SubhaloMassType', 'SubhaloGrNr', 'SubhaloFlag']\n",
    "subhalo_cat = il.groupcat.loadSubhalos(base_path, snapshot_ind, fields)"
   ]
  },
  {
   "cell_type": "markdown",
   "metadata": {},
   "source": [
    "#### **Compute Profiles**\n",
    "\n",
    "Now we can use the functions from $\\texttt{splashback_tools}$ to compute some density profiles. The profile calculation code needs us to specify the location of the cluster centers, as well as the location of the subhalos we are interested in analyzing."
   ]
  },
  {
   "cell_type": "markdown",
   "metadata": {},
   "source": [
    "##### **Load Clusters**\n",
    "First we will select the clusters. In this case, I will select clusters using three mass bins  with $M_{\\rm 200m}$ between $1e13.0$ and $1e14.5$ $M_{\\odot}/h$. The clusters are stored in the halo catalogue."
   ]
  },
  {
   "cell_type": "code",
   "execution_count": 4,
   "metadata": {
    "scrolled": true
   },
   "outputs": [
    {
     "name": "stdout",
     "output_type": "stream",
     "text": [
      "Number of halos selected in this mass bin: 2655\n",
      "Number of halos selected in this mass bin: 919\n",
      "Number of halos selected in this mass bin: 211\n"
     ]
    }
   ],
   "source": [
    "def get_groups(halo_cat, min_mass, max_mass, N_groups=None):\n",
    "    \"\"\"\n",
    "    Returns group centers, R200m, and M200m for groups in a mass [min_mass, max_mass].\n",
    "    min_mass and max_mass must be specified in Msun/h. N_groups sets a maximum number of \n",
    "    groups/clusters to consider. For low mass groups, there can be many clusters between\n",
    "    min_mass and max_mass, so setting N_groups can make things faster if you don't want\n",
    "    to look at every cluster.\n",
    "    \"\"\"\n",
    "\n",
    "    inds = np.where((halo_cat['Group_M_Mean200']*10**10 > min_mass) &\n",
    "                    (halo_cat['Group_M_Mean200']*10**10 < max_mass))[0]\n",
    "    \n",
    "    if N_groups is not None:\n",
    "        assert N_groups < len(inds), \"Too many halos requested. Maximum for this mass range is {}\".format(len(inds))\n",
    "\n",
    "        inds = np.random.choice(inds, N_groups, replace=False)\n",
    "\n",
    "    print(\"Number of halos selected in this mass bin: \"+str(len(inds)))\n",
    "\n",
    "    halo_ids = inds\n",
    "    halo_centers = halo_cat['GroupPos'][inds]/1000*scale_factor      # Mpc/h\n",
    "    halo_firstsub = halo_cat['GroupFirstSub'][inds]\n",
    "    halo_R200m = halo_cat['Group_R_Mean200'][inds]/1000*scale_factor # Mpc/h\n",
    "    halo_M200m = halo_cat['Group_M_Mean200'][inds]*10**10            # Msun/h\n",
    "    \n",
    "\n",
    "    return {\"id\": inds, \"position\": halo_centers, \"firstsub\": halo_firstsub, \"R200m\": halo_R200m, \"M200m\": halo_M200m}\n",
    "\n",
    "\n",
    "# First mass bin: 10^13-10^13.5 solar mass\n",
    "clusters_Mbin1 = get_groups(halo_cat, 10**13, 10**(13.5))\n",
    "\n",
    "# Second mass bin: 10^13-10^13.5 solar mass\n",
    "clusters_Mbin2 = get_groups(halo_cat, 10**(13.5), 10**14)\n",
    "\n",
    "# Third mass bin: 10^13-10^13.5 solar mass\n",
    "clusters_Mbin3 = get_groups(halo_cat, 10**(14), 10**(14.5))"
   ]
  },
  {
   "cell_type": "markdown",
   "metadata": {},
   "source": [
    "##### **Load galaxies/subhalos**\n",
    "Now we can select some galaxies. In this case, I will define galaxies as all subhalos that have mass greater than $10^8 \\ M_{\\rm sun}/h$ and have SubhaloFlag==1. I then want to load in the centers of all subhalos that satisfy these criteria."
   ]
  },
  {
   "cell_type": "code",
   "execution_count": 5,
   "metadata": {
    "scrolled": true
   },
   "outputs": [
    {
     "name": "stdout",
     "output_type": "stream",
     "text": [
      "Total number of subhalos selected: 57355\n"
     ]
    }
   ],
   "source": [
    "def get_subhalos(subhalo_cat, min_stellar_mass=10**8):\n",
    "    \"\"\"\n",
    "    Returns subhalo centers, spins, SFR, and photometrics for a fixed stellar mass cut\n",
    "    \"\"\"\n",
    "\n",
    "    #Take only subhalos with enough stellar mass\n",
    "    subhalo_mass = subhalo_cat['SubhaloMassType'].T[4]*10**10\n",
    "    inds = np.where((subhalo_cat['SubhaloFlag']==1) & (subhalo_mass>min_stellar_mass))[0]\n",
    "\n",
    "    print(\"Total number of subhalos selected: \"+str(len(inds)))\n",
    "    \n",
    "    subhalo_mass = subhalo_mass[inds]\n",
    "    subhalo_centers = subhalo_cat['SubhaloPos'][inds]/1000*scale_factor      # Mpc/h\n",
    "    subhalo_parents = subhalo_cat['SubhaloGrNr'][inds]\n",
    "\n",
    "    return {\"position\": subhalo_centers, \"mass\" : subhalo_mass, \"parent_id\": subhalo_parents}\n",
    "\n",
    "subhalos = get_subhalos(subhalo_cat)"
   ]
  },
  {
   "cell_type": "code",
   "execution_count": 6,
   "metadata": {},
   "outputs": [],
   "source": [
    "from functools import partial"
   ]
  },
  {
   "cell_type": "code",
   "execution_count": 7,
   "metadata": {},
   "outputs": [],
   "source": [
    "def stellar_miscenter(center_metric, halos, subhalos):\n",
    "    subhalos_per_halo = [np.where(subhalos[\"parent_id\"] == halo_id)[0] for halo_id in halos['id']]\n",
    "    center_obs = [center_metric(subhalo_arr, subhalos) for subhalo_arr in subhalos_per_halo]\n",
    "    disp = center_obs - halos[\"position\"]\n",
    "    return np.apply_along_axis(np.linalg.norm, 1, disp)"
   ]
  },
  {
   "cell_type": "code",
   "execution_count": 8,
   "metadata": {
    "scrolled": true
   },
   "outputs": [],
   "source": [
    "def smgc_metric(subhalo_arr, subhalos):\n",
    "    return subhalos[\"position\"][subhalo_arr[np.argmax(subhalos[\"mass\"][subhalo_arr])]]\n",
    "smgc = partial(stellar_miscenter, smgc_metric)"
   ]
  },
  {
   "cell_type": "code",
   "execution_count": 9,
   "metadata": {
    "scrolled": true
   },
   "outputs": [],
   "source": [
    "def sitr_metric(subhalo_arr, subhalos):\n",
    "    if (len(subhalo_arr) == 1):\n",
    "        return subhalos[\"position\"][subhalo_arr[0]]\n",
    "    masses = subhalos[\"mass\"][subhalo_arr]\n",
    "    positions = subhalos[\"position\"][subhalo_arr]\n",
    "    cm = sum([masses[i] * positions[i] for i in range(len(masses))])/sum(masses)\n",
    "    disps = positions - cm\n",
    "    dists = np.apply_along_axis(np.linalg.norm, 1, disps)\n",
    "    return sitr_metric(np.delete(subhalo_arr, np.argmax(dists)), subhalos)\n",
    "sitr = partial(stellar_miscenter, sitr_metric)"
   ]
  },
  {
   "cell_type": "code",
   "execution_count": 10,
   "metadata": {},
   "outputs": [],
   "source": [
    "def scom_metric(subhalo_arr, subhalos):\n",
    "    masses = subhalos[\"mass\"][subhalo_arr]\n",
    "    positions = subhalos[\"position\"][subhalo_arr]\n",
    "    return sum([masses[i] * positions[i] for i in range(len(masses))])/sum(masses)\n",
    "scom = partial(stellar_miscenter, scom_metric)"
   ]
  },
  {
   "cell_type": "code",
   "execution_count": 11,
   "metadata": {
    "scrolled": false
   },
   "outputs": [
    {
     "data": {
      "image/png": "[encoded data removed]",
      "text/plain": [
       "<Figure size 432x288 with 1 Axes>"
      ]
     },
     "metadata": {
      "image/png": {
       "height": 249,
       "width": 372
      },
      "needs_background": "light"
     },
     "output_type": "display_data"
    }
   ],
   "source": [
    "def miscenter_plot(halos, subhalos, miscenter_fn = sitr, outlier_cutoff = None):\n",
    "    r_misc = miscenter_fn(halos, subhalos)\n",
    "    r_ratio = r_misc/halos[\"R200m\"]\n",
    "    m_200m = halos[\"M200m\"]\n",
    "    if outlier_cutoff:\n",
    "        inds = np.where(r_ratio < outlier_cutoff)\n",
    "        r_ratio = r_ratio[inds]\n",
    "        m_200m = m_200m[inds]\n",
    "    plt.scatter(m_200m, r_ratio)\n",
    "    plt.xscale(\"log\")\n",
    "miscenter_plot(clusters_Mbin2, subhalos, sitr, 10)"
   ]
  },
  {
   "cell_type": "code",
   "execution_count": 12,
   "metadata": {},
   "outputs": [
    {
     "data": {
      "text/plain": [
       "0.05223068552774755"
      ]
     },
     "execution_count": 12,
     "metadata": {},
     "output_type": "execute_result"
    }
   ],
   "source": [
    "misc = sitr(clusters_Mbin2, subhalos)\n",
    "len(np.nonzero(misc)[0])/len(misc)\n",
    "# plt.hist(smgc(clusters_Mbin2, subhalos))"
   ]
  },
  {
   "cell_type": "markdown",
   "metadata": {},
   "source": [
    "##### **Compute the galaxy radial density profile**\n",
    "\n",
    "Having identified the centers of clusters we are interested in, as well as the centers of the galaxies we are interested in, we can now compute the density profile. All we need to do is specify the radial bins and some profile weighting options. For the binning I use 25 logarithmically spaced bins between $0.1$ and $7$ $R_{\\rm 200m}$. Note that the binning can be in units of Mpc/h or R200m depending on if you specify $\\texttt{R200m_arr}$ in the $\\texttt{compute_avg_profiles}$ function. Some more details on the $\\texttt{compute_avg_profiles}$ are listed below:\n",
    "\n",
    "* The first two arguments are the centers of the clusters and the centers of the galaxies. \n",
    "* The third argument is the radial bins\n",
    "* Boxsize must be given in the same units as the first two arguments. This is needed to account for periodic boundary conditions of the simulation\n",
    "* R200m_arr: optional argument that if specified consists of the R200m values of the clusters selected and will bin the profiles in units of r/R200m.\n",
    "* weights:   optional argument if you want to weight the galaxies/particles differently. Default is equal weighting.\n",
    "* bin_stat:  optional argument specifying the statistic you want to apply over the individual profiles. The default is mean.\n",
    "* return_mat: optional boolean that (if true) will also return an array consisting of the individual profiles for each cluster.\n",
    "\n",
    "\n",
    "There are some additional arguments for this function and more details in the source code. The additional arguments are mostly relevant if you are interested in other profile types (e.g. velocity dispersion, etc.)"
   ]
  },
  {
   "cell_type": "code",
   "execution_count": 13,
   "metadata": {
    "scrolled": true
   },
   "outputs": [
    {
     "name": "stderr",
     "output_type": "stream",
     "text": [
      "100%|█████████████████████████████████████████████████████████████████████████████| 2655/2655 [00:00<00:00, 3375.03it/s]\n"
     ]
    },
    {
     "name": "stdout",
     "output_type": "stream",
     "text": [
      "Individual profiles computed. Now computing averaged profile!\n"
     ]
    },
    {
     "name": "stderr",
     "output_type": "stream",
     "text": [
      "100%|███████████████████████████████████████████████████████████████████████████████| 919/919 [00:00<00:00, 6302.19it/s]\n"
     ]
    },
    {
     "name": "stdout",
     "output_type": "stream",
     "text": [
      "Individual profiles computed. Now computing averaged profile!\n"
     ]
    },
    {
     "name": "stderr",
     "output_type": "stream",
     "text": [
      "100%|███████████████████████████████████████████████████████████████████████████████| 211/211 [00:00<00:00, 2654.09it/s]\n"
     ]
    },
    {
     "name": "stdout",
     "output_type": "stream",
     "text": [
      "Individual profiles computed. Now computing averaged profile!\n"
     ]
    }
   ],
   "source": [
    "bins = np.logspace(-1, np.log10(7), 26) # Bins (in units of Mpc/h or R200m depending on a flag used in calc_prof)\n",
    "\n",
    "def avg_profile(cluster_bin):\n",
    "    return calc_profs_2D.compute_avg_profiles(cluster_bin['position'], subhalos['position'], bins,\n",
    "                         boxsize, R200m_arr=cluster_bin['R200m'])\n",
    "\n",
    "# Compute profiles in each mass bin\n",
    "prof_Mbin1  = avg_profile(clusters_Mbin1)\n",
    "\n",
    "prof_Mbin2  = avg_profile(clusters_Mbin2)\n",
    "\n",
    "prof_Mbin3  = avg_profile(clusters_Mbin3)\n",
    "\n"
   ]
  },
  {
   "cell_type": "markdown",
   "metadata": {},
   "source": [
    "##### **Plot the galaxy density profiles**\n",
    "\n",
    "Before fitting the profiles, we can plot the density profiles to see if they make sense!"
   ]
  },
  {
   "cell_type": "code",
   "execution_count": 14,
   "metadata": {},
   "outputs": [
    {
     "data": {
      "image/png": "[encoded data removed]",
      "text/plain": [
       "<Figure size 1080x324 with 3 Axes>"
      ]
     },
     "metadata": {
      "image/png": {
       "height": 310,
       "width": 1070
      },
      "needs_background": "light"
     },
     "output_type": "display_data"
    }
   ],
   "source": [
    "fig, ax = plt.subplots(1, 3)\n",
    "fig.set_size_inches(15,4.5)\n",
    "\n",
    "# Plot profiles\n",
    "ax[0].errorbar(prof_Mbin1['r'], prof_Mbin1['sigma'], yerr=np.sqrt(np.diag(prof_Mbin1['cov'])), color='r', linewidth=0.8)\n",
    "ax[1].errorbar(prof_Mbin1['r'], prof_Mbin2['sigma'], yerr=np.sqrt(np.diag(prof_Mbin2['cov'])), color='r', linewidth=0.8)\n",
    "ax[2].errorbar(prof_Mbin3['r'], prof_Mbin3['sigma'], yerr=np.sqrt(np.diag(prof_Mbin3['cov'])), color='r', linewidth=0.8)\n",
    "\n",
    "# Make plot look nicer\n",
    "for ax_i in ax:\n",
    "    ax_i.set_xscale(\"log\")\n",
    "    ax_i.set_yscale(\"log\")\n",
    "    ax_i.set_ylabel(r\"$\\rho$\", fontsize=14)\n",
    "    ax_i.set_xlabel(r\"$r/R_{200m}$\", fontsize=14)\n",
    "\n",
    "ax[0].text(0.03, 0.05, r\"13$<\\log_{10}(M_{200m})<$13.5\",  \n",
    "            transform=ax[0].transAxes, fontsize=13)\n",
    "ax[1].text(0.03, 0.05, r\"13.5$<\\log_{10}(M_{200m})<$14\",  \n",
    "            transform=ax[1].transAxes, fontsize=13)\n",
    "ax[2].text(0.03, 0.05, r\"14$<\\log_{10}(M_{200m})<$14.5\",  \n",
    "            transform=ax[2].transAxes, fontsize=13)\n",
    "\n",
    "plt.tight_layout()"
   ]
  },
  {
   "cell_type": "markdown",
   "metadata": {},
   "source": [
    "##### **Fit the galaxy density profiles**\n",
    "\n",
    "Now we can fit the profiles and estimate the splashback radii. All we need to do is run the fit_profs.fit_DK_14 function with the profiles as input. The input for this function is a tuple of the form (r, rho, cov) so we define a function get_data_vec to format our measured profiles so that they are accepted by the fit_profs_fit_DK_14 function. The fitting function can save the output if a save directory is specified. In this case we do not save the output and instead analyze it in this notebook. \n",
    "\n",
    "You will also need to specify a `basepath` for Multinest to run the sampler. I have specified this as `/u/samgolds/lib/splashback_tools/splashback_tools/multinest_samples`, but it will need to be changed to a directory on the computer you are working on.\n",
    "\n",
    "The output of the fit is an $11 \\times N$ dimensional array where $N$ is the number of multinest samples (multinest determines this based on convergence criterion). The first 9 columns are the DK14 model parameters. The 10th column is the weights and the 11th is the negative log likelihood. So to find the best fit we find the sample with minimum negative log likelihood. In practice we should run a dedicated minimizer afterwards, but this is good enough for now."
   ]
  },
  {
   "cell_type": "code",
   "execution_count": 15,
   "metadata": {},
   "outputs": [],
   "source": [
    "def sigma_d22(theta, r, l_max = 7, precision = 100):\n",
    "    if np.isscalar(r):\n",
    "        l = np.linspace(-l_max, l_max, precision)\n",
    "        return np.trapz(fit_d22.rho_d22(theta, np.sqrt(r**2 + l**2)), l) \n",
    "    return np.array([sigma_d22(theta, r_i, l_max) for r_i in r])"
   ]
  },
  {
   "cell_type": "code",
   "execution_count": null,
   "metadata": {
    "scrolled": true
   },
   "outputs": [
    {
     "name": "stdout",
     "output_type": "stream",
     "text": [
      "\u001b[32mFitting profiles with multinest\u001b[0m\n",
      " *****************************************************\n",
      " MultiNest v3.10\n",
      " Copyright Farhan Feroz & Mike Hobson\n",
      " Release Jul 2015\n",
      "\n",
      " no. of live points =  500\n",
      " dimensionality =   11\n",
      " *****************************************************\n"
     ]
    }
   ],
   "source": [
    "# Lambda expression to reformat profiles to input expected by fit_DK_14 function\n",
    "get_data_vec = lambda prof: (prof['r'], prof['sigma'], prof['cov'])\n",
    "\n",
    "# Format input\n",
    "data_vec_Mbin1 = get_data_vec(prof_Mbin1)\n",
    "data_vec_Mbin2 = get_data_vec(prof_Mbin2)\n",
    "data_vec_Mbin3 = get_data_vec(prof_Mbin3)\n",
    "\n",
    "# Run fits\n",
    "basepath = '/home/purpl/miscentered-clusters/splashback_tools/multinest_samples'\n",
    "fit_Mbin1 = fit_d22.fit_d22_2d(data_vec_Mbin1, basepath)\n",
    "# fit_Mbin2 = fit_d22.fit_d22_2d(data_vec_Mbin2, basepath)\n",
    "# fit_Mbin3 = fit_d22.fit_d22_2d(data_vec_Mbin3, basepath)"
   ]
  },
  {
   "cell_type": "code",
   "execution_count": null,
   "metadata": {},
   "outputs": [],
   "source": [
    "np.save(\"fit_Mbin1_d22\", fit_Mbin1)\n",
    "np.save(\"fit_Mbin2_d22\", fit_Mbin2)\n",
    "np.save(\"fit_Mbin3_d22\", fit_Mbin3)"
   ]
  },
  {
   "cell_type": "code",
   "execution_count": null,
   "metadata": {},
   "outputs": [],
   "source": [
    "# Get maximum likelihood from fit results\n",
    "def get_mle(fit):\n",
    "    \"\"\"\n",
    "    Gets maximum likelihood parameters from \n",
    "    a fit\n",
    "    \"\"\"\n",
    "    \n",
    "    # Unpack the fit \n",
    "    samples  = fit[0:9]\n",
    "    loglikes = fit[-1]\n",
    "    weights  = fit[-2]\n",
    "    \n",
    "    return samples.T[np.argmin(loglikes)]\n",
    "    \n",
    "    \n",
    "# Get maximum likelihood\n",
    "mle_Mbin1 = get_mle(fit_Mbin1)\n",
    "mle_Mbin2 = get_mle(fit_Mbin2)\n",
    "mle_Mbin3 = get_mle(fit_Mbin3)"
   ]
  },
  {
   "cell_type": "markdown",
   "metadata": {},
   "source": [
    "##### **Plot the galaxy density profiles with the bestfit**\n",
    "\n",
    "Check if the fits worked"
   ]
  },
  {
   "cell_type": "code",
   "execution_count": null,
   "metadata": {},
   "outputs": [],
   "source": [
    "fig, ax = plt.subplots(1, 3)\n",
    "fig.set_size_inches(15,4.5)\n",
    "\n",
    "# Plot profiles\n",
    "ax[0].errorbar(prof_Mbin1['r'], prof_Mbin1['sigma'], yerr=np.sqrt(np.diag(prof_Mbin1['cov'])), color='r', linestyle=\"None\", marker='.')\n",
    "ax[1].errorbar(prof_Mbin1['r'], prof_Mbin2['sigma'], yerr=np.sqrt(np.diag(prof_Mbin2['cov'])), color='r', linestyle=\"None\", marker='.')\n",
    "ax[2].errorbar(prof_Mbin3['r'], prof_Mbin3['sigma'], yerr=np.sqrt(np.diag(prof_Mbin3['cov'])), color='r', linestyle=\"None\", marker='.')\n",
    "\n",
    "# Plot theory curves\n",
    "r_thr = np.logspace(-1, np.log10(7), 100)\n",
    "ax[0].plot(r_thr, fit_d22.sigma_d22(mle_Mbin1, r_thr), color='k', linewidth=0.7)\n",
    "ax[1].plot(r_thr, fit_d22.sigma_d22(mle_Mbin2, r_thr), color='k', linewidth=0.7)\n",
    "ax[2].plot(r_thr, fit_d22.sigma_d22(mle_Mbin3, r_thr), color='k', linewidth=0.7)\n",
    "\n",
    "# Make plot look nicer\n",
    "for ax_i in ax:\n",
    "    ax_i.set_xscale(\"log\")\n",
    "    ax_i.set_yscale(\"log\")\n",
    "    ax_i.set_ylabel(r\"$\\rho$\", fontsize=14)\n",
    "    ax_i.set_xlabel(r\"$r/R_{200m}$\", fontsize=14)\n",
    "    ax_i.set_xlim(0.1, 7)\n",
    "\n",
    "ax[0].text(0.03, 0.05, r\"13$<\\log_{10}(M_{200m})<$13.5\",  \n",
    "            transform=ax[0].transAxes, fontsize=13)\n",
    "ax[1].text(0.03, 0.05, r\"13.5$<\\log_{10}(M_{200m})<$14\",  \n",
    "            transform=ax[1].transAxes, fontsize=13)\n",
    "ax[2].text(0.03, 0.05, r\"14$<\\log_{10}(M_{200m})<$14.5\",  \n",
    "            transform=ax[2].transAxes, fontsize=13)\n",
    "\n",
    "plt.tight_layout()"
   ]
  },
  {
   "cell_type": "code",
   "execution_count": null,
   "metadata": {},
   "outputs": [],
   "source": [
    "plt.xscale(\"log\")\n",
    "plt.yscale(\"log\")\n",
    "plt.plot(r_thr, fit_d22.sigma_d22(mle_Mbin1, r_thr))"
   ]
  },
  {
   "cell_type": "markdown",
   "metadata": {},
   "source": [
    "##### **Determine splashback posterior**\n",
    "\n",
    "We can then determine the splashback radius by looping through the samples in the chain and determining the location of minimum log derivative for each sample. I will only do this for one of the cluster mass bins for now"
   ]
  },
  {
   "cell_type": "code",
   "execution_count": null,
   "metadata": {},
   "outputs": [],
   "source": [
    "from tqdm import tqdm\n",
    "import os\n",
    "import joblib\n",
    "from getdist import MCSamples, plots\n",
    "\n",
    "if 'OMP_NUM_THREADS' in os.environ.keys():\n",
    "    n_threads = int(os.environ['OMP_NUM_THREADS'])\n",
    "else:\n",
    "    n_threads = os.cpu_count()\n",
    "    \n",
    "\n",
    "\n",
    "def get_splashback_posterior(fit):\n",
    "    \"\"\"\n",
    "    Determines splashback posterior from a chain\n",
    "    \"\"\"\n",
    "    \n",
    "    # Creat mc samples objects\n",
    "    chain = MCSamples(samples=fit[0:9].T, weights=fit[-2], loglikes=fit[-1])\n",
    "        \n",
    "    samples = chain.samples\n",
    "    N_samp = len(samples)\n",
    "    \n",
    "    \n",
    "    def get_quants_ind(ind):\n",
    "        \"\"\"\n",
    "        Helper function to compute the log derivative and splashback radius\n",
    "        for an index in the chain\n",
    "        \"\"\"\n",
    "        # Compute quantites\n",
    "        samp = samples[ind]\n",
    "        \n",
    "        log_deriv = fit_profs.log_deriv_DK14(samp, r_log_deriv)\n",
    "        r_sp = fit_profs.get_rsp(samp)\n",
    "\n",
    "        return log_deriv, r_sp\n",
    "    \n",
    "    res = joblib.Parallel(n_threads)(joblib.delayed(get_quants_ind)(i)\n",
    "                                     for i in tqdm(range(N_samp)))\n",
    "    \n",
    "    # Reformat res to be (Nsample, Nbin+1) array of samples\n",
    "    res_arr = np.array(res, dtype=object)\n",
    "    \n",
    "    # Log deriv\n",
    "    _temp = res_arr.T[0]\n",
    "    log_deriv_samps = np.concatenate(_temp).ravel().reshape((N_samp, len(r_log_deriv))).T\n",
    "    \n",
    "    # Splashback radius\n",
    "    r_sp_samps = np.array(res_arr.T[1], dtype=float)\n",
    "    derived_samps = np.vstack((log_deriv_samps, r_sp_samps)).T\n",
    "\n",
    "    # Create and return getdist MCSamples\n",
    "    get_name_arr = lambda name_str: [name_str+\"_{}\".format(i) for i in range(len(r_log_deriv))]\n",
    "    name_arr = np.append(get_name_arr(\"log_deriv\"), ['rsp'])\n",
    "    \n",
    "    return MCSamples(samples=derived_samps, loglikes=chain.loglikes, \n",
    "                     weights=chain.weights, \n",
    "                     names=name_arr)\n",
    "\n",
    "   \n",
    "\n",
    "# r bins to reconstruct logarithmic derivative \n",
    "r_log_deriv = np.logspace(-1, np.log10(7), 20)\n",
    "\n",
    "Rsp_post_Mbin1 = get_splashback_posterior(fit_Mbin1)\n",
    "Rsp_post_Mbin2 = get_splashback_posterior(fit_Mbin2)\n",
    "Rsp_post_Mbin3 = get_splashback_posterior(fit_Mbin3)"
   ]
  },
  {
   "cell_type": "markdown",
   "metadata": {},
   "source": [
    "##### **Plot splashback posterior**"
   ]
  },
  {
   "cell_type": "code",
   "execution_count": null,
   "metadata": {},
   "outputs": [],
   "source": [
    "def plot_rsp_post(ax, chains, labels):\n",
    "    \"\"\"\n",
    "    Plot smoothed density curve of splashback posterior\n",
    "    \"\"\"\n",
    "    # Setup getdist plotter\n",
    "    g = plots.get_single_plotter()\n",
    "    g.plot_1d(chains, 'rsp', \n",
    "            ax=ax, filled=True,\n",
    "          figure_legend_frame=False)\n",
    "    leg = g.add_legend(labels, ax=ax);\n",
    "    leg.set_frame_on(False)\n",
    "\n",
    "# Initialize Figure   \n",
    "plt.figure(figsize=(8,7))\n",
    "ax = plt.gca()\n",
    "# Plot subplots and set axis label\n",
    "labels = [r\"Mbin1\", r\"Mbin2\", r\"Mbin3\"]\n",
    "chains = [Rsp_post_Mbin1, Rsp_post_Mbin2, Rsp_post_Mbin3]\n",
    "plot_rsp_post(ax, chains, labels)\n",
    "ax.set_xlabel(r\"$r_{sp}/R_{\\rm 200m}$\", fontsize=13)\n",
    "plt.tight_layout()"
   ]
  },
  {
   "cell_type": "markdown",
   "metadata": {},
   "source": [
    "##### **Plot constraints on logarithmic derivative**"
   ]
  },
  {
   "cell_type": "code",
   "execution_count": null,
   "metadata": {},
   "outputs": [],
   "source": [
    "from scipy.interpolate import CubicSpline\n",
    "\n",
    "def plot_log_deriv_processed(ax, chain, r_thr):\n",
    "    \"\"\"\n",
    "    Plot smoothed density curve of splashback posterior\n",
    "    \"\"\"\n",
    "    \n",
    "    # Get 1 sigma interval on the derived chains\n",
    "    marge_stats = chain.getMargeStats().parsWithNames(chain.getParamNames().list()[0:-1])\n",
    "    rec_low_1 = np.array([_par.limits[0].lower for _par in marge_stats])\n",
    "    rec_upp_1 = np.array([_par.limits[0].upper for _par in marge_stats])\n",
    "    \n",
    "    lower_spline = CubicSpline(r_log_deriv, rec_low_1)\n",
    "    upper_spline = CubicSpline(r_log_deriv, rec_upp_1)\n",
    "    \n",
    "    ax.fill_between(r_thr, lower_spline(r_thr), upper_spline(r_thr), alpha=0.5)\n",
    "    ax.set_xscale(\"log\")\n",
    "\n",
    "# Initialize Figure   \n",
    "fig, ax_arr = plt.subplots(1, 3)\n",
    "fig.set_size_inches(12,3)\n",
    "\n",
    "# Plot subplots and set axis label\n",
    "r_thr = np.logspace(-1, np.log10(5), 100)\n",
    "\n",
    "\n",
    "\n",
    "for i in range(3):\n",
    "    ax_arr[i].set_xlabel(r\"$r/R_{200m}$\", fontsize=14)\n",
    "    ax_arr[i].set_ylabel(r\"$d\\log\\rho/d\\log r$\", fontsize=14)\n",
    "    \n",
    "    plot_log_deriv_processed(ax_arr[i], chains[i], r_thr)\n",
    "    \n",
    "\n",
    "plt.tight_layout()\n",
    "    "
   ]
  },
  {
   "cell_type": "code",
   "execution_count": null,
   "metadata": {},
   "outputs": [],
   "source": []
  }
 ],
 "metadata": {
  "kernelspec": {
   "display_name": "Python 3 (ipykernel)",
   "language": "python",
   "name": "python3"
  },
  "language_info": {
   "codemirror_mode": {
    "name": "ipython",
    "version": 3
   },
   "file_extension": ".py",
   "mimetype": "text/x-python",
   "name": "python",
   "nbconvert_exporter": "python",
   "pygments_lexer": "ipython3",
   "version": "3.9.12"
  }
 },
 "nbformat": 4,
 "nbformat_minor": 4
}
