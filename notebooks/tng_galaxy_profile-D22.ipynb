{
 "cells": [
  {
   "cell_type": "markdown",
   "metadata": {},
   "source": [
    "## **Compute and fit galaxy profiles in IllustrisTNG**\n",
    "\n",
    "This notebook contains code for computing a galaxy profile from the IllustrisTNG simulations and then fitting it with the Diemer-Kravstov 2014 fitting formula. In addition to using the $\\texttt{splashback_tools}$ code in this repository, it also uses the $\\texttt{illustris_python}$ package which is available at: https://github.com/illustristng/illustris_python"
   ]
  },
  {
   "cell_type": "code",
   "execution_count": 1,
   "metadata": {},
   "outputs": [],
   "source": [
    "from splashback_tools.profiles import fit_profs, calc_profs, mc_chain\n",
    "import illustris_python as il\n",
    "import numpy as np\n",
    "import os\n",
    "import matplotlib.pyplot as plt\n",
    "\n",
    "%config InlineBackend.figure_format='retina'   # Makes inline plots look better (at least on mac)\n",
    "\n",
    "from itertools import tee\n",
    "def pairwise(iterable):\n",
    "    a, b = tee(iterable)\n",
    "    next(b, None)\n",
    "    return zip(a, b)"
   ]
  },
  {
   "cell_type": "markdown",
   "metadata": {},
   "source": [
    "#### **Load simulation data**\n",
    "\n",
    "First we need to load the relevant python packages, as well as the IllustrisTNG simulation data. In this case, I have already downloaded the snapshot 99 group catalog from the TNG-300_3 simulation and saved it in $\\texttt{sample_data/TNG300_3/}$. \n",
    "\n",
    "\n",
    "Snapshot 99 corresponds to redshift $z=0$ (i.e. present day). The group catalog contains information such as the mass and location of clusters, as well as that of galaxies (subhalos). The remainder of the simulation information is stored in the snapshot files which contain all of the particle locations and are much larger. We use three functions from the **illustris_python** package\n",
    "\n",
    "* **il.groupcat.loadHeader:** loads the header file which contains general information about the simulation you are considering. (If you want to see everything contained in the header, you can execute \"print(header)\")\n",
    "* **il.groupcat.loadHalos:** loads the halo catalog which contains various halo quantities (listed here: https://www.tng-project.org/data/docs/specifications/#sec2a). In this case I just load their GroupPos, M200m, and R200m. The GroupPos is defined as the center of the most gravitationally bound particle in the halo.\n",
    "* **il.groupcat.loadSubhalos:** loads the subhalo catalog which contains information about the subhalos (galaxies). All available quantities are listed here: https://www.tng-project.org/data/docs/specifications/#sec2b. Here I load the SubhaloPos, SubhaloFlag, and SubhaloMassType. SubhaloFlag just indicates some subhalos that should generally be excluded from an analysis. SubhaloMassType is a $N_{\\rm subhalo}\\times 6$ dimensional array containing the mass of each particle type in the subhalo. I use this to place a cut on the stellar mass of the subhalos we use."
   ]
  },
  {
   "cell_type": "code",
   "execution_count": 2,
   "metadata": {},
   "outputs": [
    {
     "name": "stdout",
     "output_type": "stream",
     "text": [
      "Loading Header:\n",
      "Loading Group Catalog:\n",
      "Loading Subhalo Catalog\n"
     ]
    }
   ],
   "source": [
    "# Specify simulation and snapshot here\n",
    "snapshot_ind = 99\n",
    "base_path    = 'sample_data/TNG300_3'\n",
    "print(\"Loading Header:\")\n",
    "header = il.groupcat.loadHeader(base_path, snapshot_ind)\n",
    "redshift = header['Redshift']\n",
    "scale_factor = 1/(1+redshift)\n",
    "boxsize = header['BoxSize']/1000*scale_factor #  Mpc/h\n",
    "\n",
    "# Load group\n",
    "print(\"Loading Group Catalog:\")\n",
    "halo_cat_fields = ['GroupPos', 'Group_M_Mean200',  'Group_R_Mean200']\n",
    "halo_cat = il.groupcat.loadHalos(base_path, snapshot_ind, halo_cat_fields)\n",
    "\n",
    "\n",
    "print(\"Loading Subhalo Catalog\")\n",
    "fields = ['SubhaloPos', 'SubhaloMassType', 'SubhaloFlag']\n",
    "subhalo_cat = il.groupcat.loadSubhalos(base_path, snapshot_ind, fields)"
   ]
  },
  {
   "cell_type": "markdown",
   "metadata": {},
   "source": [
    "#### **Compute Profiles**\n",
    "\n",
    "Now we can use the functions from $\\texttt{splashback_tools}$ to compute some density profiles. The profile calculation code needs us to specify the location of the cluster centers, as well as the location of the subhalos we are interested in analyzing."
   ]
  },
  {
   "cell_type": "markdown",
   "metadata": {},
   "source": [
    "##### **Load Clusters**\n",
    "First we will select the clusters. In this case, I will select clusters using three mass bins  with $M_{\\rm 200m}$ between $1e13.0$ and $1e14.5$ $M_{\\odot}/h$. The clusters are stored in the halo catalogue."
   ]
  },
  {
   "cell_type": "code",
   "execution_count": 3,
   "metadata": {},
   "outputs": [
    {
     "name": "stdout",
     "output_type": "stream",
     "text": [
      "Number of halos selected in this mass bin: 1646\n",
      "Number of halos selected in this mass bin: 1009\n",
      "Number of halos selected in this mass bin: 582\n",
      "Number of halos selected in this mass bin: 337\n",
      "Number of halos selected in this mass bin: 144\n",
      "Number of halos selected in this mass bin: 67\n"
     ]
    }
   ],
   "source": [
    "def get_groups(halo_cat, min_mass, max_mass, N_groups=None):\n",
    "    \"\"\"\n",
    "    Returns group centers, R200m, and M200m for groups in a mass [min_mass, max_mass].\n",
    "    min_mass and max_mass must be specified in Msun/h. N_groups sets a maximum number of \n",
    "    groups/clusters to consider. For low mass groups, there can be many clusters between\n",
    "    min_mass and max_mass, so setting N_groups can make things faster if you don't want\n",
    "    to look at every cluster.\n",
    "    \"\"\"\n",
    "\n",
    "    inds = np.where((halo_cat['Group_M_Mean200']*10**10 > min_mass) &\n",
    "                    (halo_cat['Group_M_Mean200']*10**10 < max_mass))[0]\n",
    "\n",
    "    if N_groups is not None:\n",
    "        assert N_groups < len(inds), \"Too many halos requested. Maximum for this mass range is {}\".format(len(inds))\n",
    "\n",
    "        inds = np.random.choice(inds, N_groups, replace=False)\n",
    "\n",
    "    print(\"Number of halos selected in this mass bin: \"+str(len(inds)))\n",
    "\n",
    "    halo_centers = halo_cat['GroupPos'][inds]/1000*scale_factor      # Mpc/h\n",
    "    halo_R200m = halo_cat['Group_R_Mean200'][inds]/1000*scale_factor # Mpc/h\n",
    "    halo_M200m = halo_cat['Group_M_Mean200'][inds]*10**10            # Msun/h\n",
    "\n",
    "    return {\"pos\": halo_centers, \"R200m\": halo_R200m, \"M200m\": halo_M200m}\n",
    "\n",
    "\n",
    "bound_edges = [10**13, 10**13.25, 10**13.5, 10**13.75, 10**14, 10**14.25, 10**14.5]\n",
    "\n",
    "n_mbin = len(bound_edges) - 1\n",
    "mbins = []\n",
    "\n",
    "def stringify(x):\n",
    "    return f\"$10^{{{np.log10(x)}}}$\"\n",
    "\n",
    "def make_label(l, r):\n",
    "    return stringify(l) + r\" < $M_{200m}$ < \" + stringify(r)\n",
    "                 \n",
    "for i, bounds in enumerate(pairwise(bound_edges)):\n",
    "    l, r = bounds\n",
    "    mbin = {}\n",
    "    mbin['clusters'] = get_groups(halo_cat, l, r)\n",
    "    mbin['bounds'] = make_label(l, r)\n",
    "    mbin['color'] = (i/n_mbin, (n_mbin - i)/n_mbin, 1)\n",
    "    mbins.append(mbin)"
   ]
  },
  {
   "cell_type": "markdown",
   "metadata": {},
   "source": [
    "##### **Load galaxies/subhalos**\n",
    "Now we can select some galaxies. In this case, I will define galaxies as all subhalos that have mass greater than $10^8 \\ M_{\\rm sun}/h$ and have SubhaloFlag==1. I then want to load in the centers of all subhalos that satisfy these criteria."
   ]
  },
  {
   "cell_type": "code",
   "execution_count": 4,
   "metadata": {},
   "outputs": [
    {
     "name": "stdout",
     "output_type": "stream",
     "text": [
      "Total number of subhalos selected: 57355\n"
     ]
    }
   ],
   "source": [
    "def get_subhalos(subhalo_cat, min_stellar_mass=10**8):\n",
    "    \"\"\"\n",
    "    Returns subhalo centers, spins, SFR, and photometrics for a fixed stellar mass cut\n",
    "    \"\"\"\n",
    "\n",
    "    inds = np.where((subhalo_cat['SubhaloFlag']==1)  &\n",
    "                    (subhalo_cat['SubhaloMassType'].T[4]*10**10>min_stellar_mass))[0]\n",
    "\n",
    "    print(\"Total number of subhalos selected: \"+str(len(inds)))\n",
    "    return subhalo_cat['SubhaloPos'][inds]/1000*scale_factor      # Mpc/h\n",
    "\n",
    "subhalos = get_subhalos(subhalo_cat)"
   ]
  },
  {
   "cell_type": "markdown",
   "metadata": {},
   "source": [
    "##### **Compute the galaxy radial density profile**\n",
    "\n",
    "Having identified the centers of clusters we are interested in, as well as the centers of the galaxies we are interested in, we can now compute the density profile. All we need to do is specify the radial bins and some profile weighting options. For the binning I use 25 logarithmically spaced bins between $0.1$ and $7$ $R_{\\rm 200m}$. Note that the binning can be in units of Mpc/h or R200m depending on if you specify $\\texttt{R200m_arr}$ in the $\\texttt{compute_avg_profiles}$ function. Some more details on the $\\texttt{compute_avg_profiles}$ are listed below:\n",
    "\n",
    "* The first two arguments are the centers of the clusters and the centers of the galaxies. \n",
    "* The third argument is the radial bins\n",
    "* Boxsize must be given in the same units as the first two arguments. This is needed to account for periodic boundary conditions of the simulation\n",
    "* R200m_arr: optional argument that if specified consists of the R200m values of the clusters selected and will bin the profiles in units of r/R200m.\n",
    "* weights:   optional argument if you want to weight the galaxies/particles differently. Default is equal weighting.\n",
    "* bin_stat:  optional argument specifying the statistic you want to apply over the individual profiles. The default is mean.\n",
    "* return_mat: optional boolean that (if true) will also return an array consisting of the individual profiles for each cluster.\n",
    "\n",
    "\n",
    "There are some additional arguments for this function and more details in the source code. The additional arguments are mostly relevant if you are interested in other profile types (e.g. velocity dispersion, etc.)"
   ]
  },
  {
   "cell_type": "code",
   "execution_count": 5,
   "metadata": {},
   "outputs": [
    {
     "name": "stdout",
     "output_type": "stream",
     "text": [
      "-> profiles will be binned in units of r\n"
     ]
    },
    {
     "name": "stderr",
     "output_type": "stream",
     "text": [
      "100%|█████████████████████████████████████████████████████████████████████████████| 1646/1646 [00:00<00:00, 1857.45it/s]\n"
     ]
    },
    {
     "name": "stdout",
     "output_type": "stream",
     "text": [
      "Individual profiles computed. Now computing averaged profile!\n",
      "-> profiles will be binned in units of r\n"
     ]
    },
    {
     "name": "stderr",
     "output_type": "stream",
     "text": [
      "100%|█████████████████████████████████████████████████████████████████████████████| 1009/1009 [00:00<00:00, 4381.40it/s]\n"
     ]
    },
    {
     "name": "stdout",
     "output_type": "stream",
     "text": [
      "Individual profiles computed. Now computing averaged profile!\n",
      "-> profiles will be binned in units of r\n"
     ]
    },
    {
     "name": "stderr",
     "output_type": "stream",
     "text": [
      "100%|███████████████████████████████████████████████████████████████████████████████| 582/582 [00:00<00:00, 3253.27it/s]\n"
     ]
    },
    {
     "name": "stdout",
     "output_type": "stream",
     "text": [
      "Individual profiles computed. Now computing averaged profile!\n",
      "-> profiles will be binned in units of r\n"
     ]
    },
    {
     "name": "stderr",
     "output_type": "stream",
     "text": [
      "100%|███████████████████████████████████████████████████████████████████████████████| 337/337 [00:00<00:00, 2426.04it/s]\n"
     ]
    },
    {
     "name": "stdout",
     "output_type": "stream",
     "text": [
      "Individual profiles computed. Now computing averaged profile!\n",
      "-> profiles will be binned in units of r\n"
     ]
    },
    {
     "name": "stderr",
     "output_type": "stream",
     "text": [
      "100%|███████████████████████████████████████████████████████████████████████████████| 144/144 [00:00<00:00, 1594.38it/s]\n"
     ]
    },
    {
     "name": "stdout",
     "output_type": "stream",
     "text": [
      "Individual profiles computed. Now computing averaged profile!\n",
      "-> profiles will be binned in units of r\n"
     ]
    },
    {
     "name": "stderr",
     "output_type": "stream",
     "text": [
      "100%|█████████████████████████████████████████████████████████████████████████████████| 67/67 [00:00<00:00, 1297.14it/s]"
     ]
    },
    {
     "name": "stdout",
     "output_type": "stream",
     "text": [
      "Individual profiles computed. Now computing averaged profile!\n"
     ]
    },
    {
     "name": "stderr",
     "output_type": "stream",
     "text": [
      "\n"
     ]
    }
   ],
   "source": [
    "bins = np.logspace(-1, np.log10(7), 26)\n",
    "for mbin in mbins:\n",
    "    mbin['prof'] = calc_profs.compute_avg_profiles(mbin['clusters']['pos'], subhalos, bins,\n",
    "                                                   boxsize = boxsize, R200m_arr = None,\n",
    "                                                bin_stat=\"mean\", return_mat = True, is_2d = True)\n"
   ]
  },
  {
   "cell_type": "markdown",
   "metadata": {},
   "source": [
    "##### **Plot the galaxy density profiles**\n",
    "\n",
    "Before fitting the profiles, we can plot the density profiles to see if they make sense!"
   ]
  },
  {
   "cell_type": "code",
   "execution_count": 6,
   "metadata": {},
   "outputs": [
    {
     "data": {
      "image/png": "[encoded data removed]",
      "text/plain": [
       "<Figure size 432x288 with 1 Axes>"
      ]
     },
     "metadata": {
      "image/png": {
       "height": 268,
       "width": 391
      },
      "needs_background": "light"
     },
     "output_type": "display_data"
    }
   ],
   "source": [
    "def log_ax(ax):\n",
    "    ax.set_xscale('log')\n",
    "    ax.set_yscale('log')\n",
    "    ax.set_ylabel(r\"$\\rho$\", fontsize=14)\n",
    "    ax.set_xlabel(r\"$r/R_{200m}$\", fontsize=14)\n",
    "\n",
    "def plot_profile(ax, prof, **kwargs):\n",
    "    ax.errorbar(prof['r'], prof['dens'], yerr = np.sqrt(np.diag(prof['cov'])), linewidth = 0.8, **kwargs)\n",
    "\n",
    "# Unstacked graph:\n",
    "# fig, axs = plt.subplots(2, 3)\n",
    "# fig.set_size_inches(15, 9)\n",
    "# for ax, mbin in zip(axs.flatten(), mbins):\n",
    "#     log_ax(ax)\n",
    "#     ax.set_ylabel(r\"$\\Sigma$\", fontsize=14)\n",
    "#     ax.set_xlabel(r\"$R_{200m}$\", fontsize=14)\n",
    "#     plot_profile(ax, mbin['prof'], color = 'teal')\n",
    "#     ax.text(0.03, 0.05, mbin['bounds'], transform=ax.transAxes, fontsize=13)\n",
    "    \n",
    "# Stacked graph:\n",
    "ax = plt.gca()\n",
    "log_ax(ax)\n",
    "ax.set_ylabel(r\"$\\Sigma$\", fontsize=14)\n",
    "ax.set_xlabel(r\"$R_{200m}$\", fontsize=14)\n",
    "for mbin in mbins:\n",
    "    plot_profile(ax, mbin['prof'], color = mbin['color'], label = mbin['bounds'])\n",
    "    plt.legend()"
   ]
  },
  {
   "cell_type": "markdown",
   "metadata": {},
   "source": [
    "##### **Fit the galaxy density profiles**\n",
    "\n",
    "Now we can fit the profiles and estimate the splashback radii. All we need to do is run the fit_profs.fit_DK_14 function with the profiles as input. The input for this function is a tuple of the form (r, rho, cov) so we define a function get_data_vec to format our measured profiles so that they are accepted by the fit_profs_fit_DK_14 function. The fitting function can save the output if a save directory is specified. In this case we do not save the output and instead analyze it in this notebook. \n",
    "\n",
    "You will also need to specify a `basepath` for Multinest to run the sampler. I have specified this as `/u/samgolds/lib/splashback_tools/splashback_tools/multinest_samples`, but it will need to be changed to a directory on the computer you are working on.\n",
    "\n",
    "The output of the fit is an $11 \\times N$ dimensional array where $N$ is the number of multinest samples (multinest determines this based on convergence criterion). The first 9 columns are the DK14 model parameters. The 10th column is the weights and the 11th is the negative log likelihood. So to find the best fit we find the sample with minimum negative log likelihood. In practice we should run a dedicated minimizer afterwards, but this is good enough for now."
   ]
  },
  {
   "cell_type": "code",
   "execution_count": null,
   "metadata": {
    "scrolled": true
   },
   "outputs": [],
   "source": [
    "from splashback_tools.profiles.mc_chain import McChain\n",
    "\n",
    "# Lambda expression to reformat profiles to input expected by fit_DK_14 function\n",
    "get_data_vec = lambda prof: (prof['r'], prof['dens'], prof['cov'])\n",
    "basepath = '/home/liunicholas6/projects/miscentered-clusters/splashback_tools/multinest_samples'\n",
    "\n",
    "def fit_profile(mbin):\n",
    "    data_vec = get_data_vec(mbin['prof'])\n",
    "    fit = fit_profs.fit_profile(data_vec, basepath, is_2d = True)\n",
    "    theta = fit[0:9].T\n",
    "    loglikes = fit[-1]\n",
    "    weights = fit[-2]\n",
    "    mbin['chain'] = McChain(weights, loglikes, theta = theta)\n",
    "    \n",
    "for mbin in mbins:\n",
    "    fit_profile(mbin)"
   ]
  },
  {
   "cell_type": "code",
   "execution_count": 9,
   "metadata": {},
   "outputs": [
    {
     "data": {
      "text/plain": [
       "(array([0.10926168, 0.1295006 , 0.15348845, 0.18191965, 0.21561727,\n",
       "        0.25555681, 0.3028945 , 0.35900071, 0.42549967, 0.50431647,\n",
       "        0.59773278, 0.70845292, 0.83968214, 0.99521941, 1.17956739,\n",
       "        1.3980628 , 1.65703088, 1.96396852, 2.32776131, 2.7589407 ,\n",
       "        3.26998897, 3.87570051, 4.59361011, 5.44450063, 6.4530046 ]),\n",
       " array([4.92084986, 3.2648729 , 3.09882587, 2.30932022, 1.77885078,\n",
       "        1.53700876, 1.10034556, 0.8983468 , 0.67729615, 0.47540983,\n",
       "        0.47570829, 0.46590833, 0.41093439, 0.33456235, 0.3406388 ,\n",
       "        0.35278616, 0.31344882, 0.30016883, 0.26883302, 0.24786738,\n",
       "        0.22061069, 0.20203725, 0.18487851, 0.17570673, 0.15366282]),\n",
       " array([[ 2.38788373e-01, -1.18525905e-05, -1.16857128e-03,\n",
       "         -3.17325962e-04, -1.80249133e-03,  8.29370175e-04,\n",
       "          2.74613594e-04,  1.33215353e-03,  1.73878148e-03,\n",
       "          7.21881322e-04, -4.94218103e-05,  1.27325627e-04,\n",
       "          1.62856206e-04,  1.00293310e-04, -5.87988860e-05,\n",
       "          1.30365678e-04,  2.53935994e-04,  3.51371083e-05,\n",
       "          4.11658710e-05, -6.44796256e-05, -2.50243665e-05,\n",
       "          9.13624384e-06,  8.00852703e-05,  6.03061245e-06,\n",
       "          1.50336006e-05],\n",
       "        [-1.18525905e-05,  1.09252275e-01,  3.73583751e-03,\n",
       "          1.28123321e-03, -1.02567981e-03,  5.15645249e-04,\n",
       "         -6.83748846e-05,  6.26528574e-04, -5.93839218e-04,\n",
       "         -1.04128880e-04,  5.22569721e-04,  1.19393427e-04,\n",
       "         -1.72925267e-05, -1.54527139e-04,  1.05085771e-04,\n",
       "          6.44175647e-05,  4.94118270e-05,  1.31024004e-05,\n",
       "         -8.93966595e-05, -4.31768690e-05,  1.03053743e-04,\n",
       "          4.22029435e-05,  3.86949397e-05, -2.26595937e-05,\n",
       "         -2.90507463e-05],\n",
       "        [-1.16857128e-03,  3.73583751e-03,  7.62668676e-02,\n",
       "         -1.42793703e-03,  5.12395384e-04,  2.77869362e-04,\n",
       "          3.54984064e-05,  4.51729416e-04,  2.50354386e-04,\n",
       "         -8.07253719e-05, -2.00069742e-04,  2.50959047e-04,\n",
       "          1.86075438e-04,  3.74105344e-04,  2.22209831e-04,\n",
       "          1.76595963e-04,  1.03926552e-04,  1.12420434e-05,\n",
       "          4.94414807e-05,  3.04137122e-05,  7.92924245e-05,\n",
       "         -1.91166838e-05, -1.04156801e-05, -7.52433357e-06,\n",
       "          5.49532860e-06],\n",
       "        [-3.17325962e-04,  1.28123321e-03, -1.42793703e-03,\n",
       "          3.95523016e-02, -1.70166066e-04,  1.15534504e-03,\n",
       "         -2.58298568e-04,  1.88785752e-04, -2.73264955e-05,\n",
       "          3.38022950e-04,  2.68117783e-04,  2.08147342e-04,\n",
       "          3.68817157e-05,  6.96177839e-06, -4.60363971e-06,\n",
       "         -9.27072780e-05,  5.06958272e-05, -4.14635504e-05,\n",
       "          1.46665109e-05,  3.44958549e-05,  2.78608484e-05,\n",
       "          7.73936265e-06,  7.99779005e-06, -1.17558346e-05,\n",
       "         -1.07070964e-05],\n",
       "        [-1.80249133e-03, -1.02567981e-03,  5.12395384e-04,\n",
       "         -1.70166066e-04,  2.17196267e-02,  1.60345707e-04,\n",
       "          3.36355754e-04, -1.02276340e-04,  1.18336225e-04,\n",
       "          6.39856934e-05,  2.49814907e-04,  2.49443111e-04,\n",
       "          6.20527318e-05,  1.11814335e-04,  4.42565212e-05,\n",
       "          6.62531962e-05,  5.27472872e-06,  5.47667368e-05,\n",
       "          7.75418839e-05,  4.56129329e-05,  2.66159928e-05,\n",
       "          3.32141617e-05,  2.23788197e-05,  2.75255231e-05,\n",
       "          2.19734899e-05],\n",
       "        [ 8.29370175e-04,  5.15645249e-04,  2.77869362e-04,\n",
       "          1.15534504e-03,  1.60345707e-04,  1.32157444e-02,\n",
       "          2.75641172e-04,  1.27381181e-04,  3.03104210e-04,\n",
       "          2.02456743e-04,  4.06427693e-04,  7.11018371e-05,\n",
       "          1.17916734e-04,  5.97586846e-05,  6.85751591e-05,\n",
       "          8.34476026e-05,  4.80796900e-06,  5.67756053e-05,\n",
       "          8.19653664e-06,  1.85225988e-05,  8.74138858e-06,\n",
       "          1.59417342e-05,  2.16411975e-05,  1.52248228e-05,\n",
       "          9.14381277e-06],\n",
       "        [ 2.74613594e-04, -6.83748846e-05,  3.54984064e-05,\n",
       "         -2.58298568e-04,  3.36355754e-04,  2.75641172e-04,\n",
       "          6.95933058e-03,  1.14809667e-04,  1.93611315e-04,\n",
       "          1.56272711e-04,  1.08782312e-04,  1.33677329e-04,\n",
       "          6.22593294e-05,  1.16496382e-04,  4.75283266e-05,\n",
       "          8.71113558e-05,  4.74616303e-05,  4.20410579e-05,\n",
       "          2.19976745e-06,  4.25448224e-05,  2.36374519e-05,\n",
       "          2.85349903e-05,  2.54671807e-05,  1.07722945e-05,\n",
       "          7.97314445e-06],\n",
       "        [ 1.33215353e-03,  6.26528574e-04,  4.51729416e-04,\n",
       "          1.88785752e-04, -1.02276340e-04,  1.27381181e-04,\n",
       "          1.14809667e-04,  4.31034288e-03,  4.86021690e-05,\n",
       "          1.47500417e-04,  1.43125097e-04,  2.08495079e-04,\n",
       "          4.42326315e-05,  1.10524543e-04,  6.99063254e-05,\n",
       "          3.73351847e-05,  3.76158893e-05,  3.03910006e-06,\n",
       "          2.98379526e-05, -7.95413641e-06,  1.81652439e-05,\n",
       "          3.49123931e-06,  1.70465590e-05,  1.85526738e-05,\n",
       "         -7.05427049e-07],\n",
       "        [ 1.73878148e-03, -5.93839218e-04,  2.50354386e-04,\n",
       "         -2.73264955e-05,  1.18336225e-04,  3.03104210e-04,\n",
       "          1.93611315e-04,  4.86021690e-05,  2.57101372e-03,\n",
       "          1.85966431e-04,  1.21143705e-04,  9.11462923e-05,\n",
       "          5.77416266e-05,  3.46868497e-05,  3.67668477e-05,\n",
       "          3.68659743e-05,  3.98714811e-05,  3.11546827e-05,\n",
       "          3.76243150e-05,  1.79290558e-05,  1.62679351e-05,\n",
       "          7.41724115e-06,  5.92655721e-06,  4.80228353e-06,\n",
       "          9.39362535e-06],\n",
       "        [ 7.21881322e-04, -1.04128880e-04, -8.07253719e-05,\n",
       "          3.38022950e-04,  6.39856934e-05,  2.02456743e-04,\n",
       "          1.56272711e-04,  1.47500417e-04,  1.85966431e-04,\n",
       "          1.20107986e-03,  1.20419999e-04,  1.63682345e-04,\n",
       "          8.27169162e-05,  1.02294371e-04,  4.41220439e-05,\n",
       "          6.36977869e-05,  2.12749597e-05,  9.46997791e-06,\n",
       "          1.48921882e-05,  1.04139627e-05,  1.27220225e-05,\n",
       "          5.42468034e-06,  4.36845234e-06,  1.37400259e-06,\n",
       "          3.38146034e-06],\n",
       "        [-4.94218103e-05,  5.22569721e-04, -2.00069742e-04,\n",
       "          2.68117783e-04,  2.49814907e-04,  4.06427693e-04,\n",
       "          1.08782312e-04,  1.43125097e-04,  1.21143705e-04,\n",
       "          1.20419999e-04,  9.18066147e-04,  2.66407798e-04,\n",
       "          1.70595285e-04,  1.35037215e-04,  9.26822092e-05,\n",
       "          7.22989574e-05,  5.96572325e-05,  1.99528689e-05,\n",
       "          2.29686958e-05,  2.69416431e-05,  1.46710993e-05,\n",
       "          4.52807156e-06,  3.05032562e-06,  5.15391601e-06,\n",
       "          2.88472876e-06],\n",
       "        [ 1.27325627e-04,  1.19393427e-04,  2.50959047e-04,\n",
       "          2.08147342e-04,  2.49443111e-04,  7.11018371e-05,\n",
       "          1.33677329e-04,  2.08495079e-04,  9.11462923e-05,\n",
       "          1.63682345e-04,  2.66407798e-04,  8.29366890e-04,\n",
       "          1.90822615e-04,  1.80241705e-04,  1.02078011e-04,\n",
       "          8.95346298e-05,  5.95489508e-05,  2.76324661e-05,\n",
       "          1.99668610e-05,  1.54222582e-05,  9.02276015e-06,\n",
       "          5.63843619e-06,  5.60065221e-06,  6.50474197e-06,\n",
       "          6.33035163e-06],\n",
       "        [ 1.62856206e-04, -1.72925267e-05,  1.86075438e-04,\n",
       "          3.68817157e-05,  6.20527318e-05,  1.17916734e-04,\n",
       "          6.22593294e-05,  4.42326315e-05,  5.77416266e-05,\n",
       "          8.27169162e-05,  1.70595285e-04,  1.90822615e-04,\n",
       "          4.69604605e-04,  1.37818312e-04,  9.37414931e-05,\n",
       "          8.35798663e-05,  5.46902602e-05,  3.75199392e-05,\n",
       "          2.48582268e-05,  1.69855927e-05,  9.90916485e-06,\n",
       "          1.04123555e-05,  7.67891095e-06,  6.27030821e-06,\n",
       "          4.22958543e-06],\n",
       "        [ 1.00293310e-04, -1.54527139e-04,  3.74105344e-04,\n",
       "          6.96177839e-06,  1.11814335e-04,  5.97586846e-05,\n",
       "          1.16496382e-04,  1.10524543e-04,  3.46868497e-05,\n",
       "          1.02294371e-04,  1.35037215e-04,  1.80241705e-04,\n",
       "          1.37818312e-04,  3.27783995e-04,  1.11168096e-04,\n",
       "          7.33476907e-05,  4.98320781e-05,  3.74412781e-05,\n",
       "          2.31982145e-05,  1.91843118e-05,  1.13740539e-05,\n",
       "          6.75607049e-06,  5.35175551e-06,  4.44134354e-06,\n",
       "          2.88804290e-06],\n",
       "        [-5.87988860e-05,  1.05085771e-04,  2.22209831e-04,\n",
       "         -4.60363971e-06,  4.42565212e-05,  6.85751591e-05,\n",
       "          4.75283266e-05,  6.99063254e-05,  3.67668477e-05,\n",
       "          4.41220439e-05,  9.26822092e-05,  1.02078011e-04,\n",
       "          9.37414931e-05,  1.11168096e-04,  2.36975363e-04,\n",
       "          7.26042089e-05,  5.27523014e-05,  4.03399628e-05,\n",
       "          2.63180880e-05,  2.34472090e-05,  1.10022850e-05,\n",
       "          8.59111986e-06,  8.52267135e-06,  7.43899616e-06,\n",
       "          3.71887619e-06],\n",
       "        [ 1.30365678e-04,  6.44175647e-05,  1.76595963e-04,\n",
       "         -9.27072780e-05,  6.62531962e-05,  8.34476026e-05,\n",
       "          8.71113558e-05,  3.73351847e-05,  3.68659743e-05,\n",
       "          6.36977869e-05,  7.22989574e-05,  8.95346298e-05,\n",
       "          8.35798663e-05,  7.33476907e-05,  7.26042089e-05,\n",
       "          1.91781203e-04,  6.79047504e-05,  4.84386274e-05,\n",
       "          3.08891403e-05,  2.48804466e-05,  1.41889247e-05,\n",
       "          1.16260390e-05,  5.95019582e-06,  4.51942945e-06,\n",
       "          4.34526127e-06],\n",
       "        [ 2.53935994e-04,  4.94118270e-05,  1.03926552e-04,\n",
       "          5.06958272e-05,  5.27472872e-06,  4.80796900e-06,\n",
       "          4.74616303e-05,  3.76158893e-05,  3.98714811e-05,\n",
       "          2.12749597e-05,  5.96572325e-05,  5.95489508e-05,\n",
       "          5.46902602e-05,  4.98320781e-05,  5.27523014e-05,\n",
       "          6.79047504e-05,  1.26826782e-04,  4.87727415e-05,\n",
       "          2.80817518e-05,  2.58577099e-05,  1.61222551e-05,\n",
       "          1.30837443e-05,  8.95661138e-06,  7.43865397e-06,\n",
       "          5.37127515e-06],\n",
       "        [ 3.51371083e-05,  1.31024004e-05,  1.12420434e-05,\n",
       "         -4.14635504e-05,  5.47667368e-05,  5.67756053e-05,\n",
       "          4.20410579e-05,  3.03910006e-06,  3.11546827e-05,\n",
       "          9.46997791e-06,  1.99528689e-05,  2.76324661e-05,\n",
       "          3.75199392e-05,  3.74412781e-05,  4.03399628e-05,\n",
       "          4.84386274e-05,  4.87727415e-05,  1.08435316e-04,\n",
       "          3.75199855e-05,  2.79293999e-05,  1.66841932e-05,\n",
       "          1.26045270e-05,  1.11146467e-05,  8.56193062e-06,\n",
       "          8.02028240e-06],\n",
       "        [ 4.11658710e-05, -8.93966595e-05,  4.94414807e-05,\n",
       "          1.46665109e-05,  7.75418839e-05,  8.19653664e-06,\n",
       "          2.19976745e-06,  2.98379526e-05,  3.76243150e-05,\n",
       "          1.48921882e-05,  2.29686958e-05,  1.99668610e-05,\n",
       "          2.48582268e-05,  2.31982145e-05,  2.63180880e-05,\n",
       "          3.08891403e-05,  2.80817518e-05,  3.75199855e-05,\n",
       "          6.77940636e-05,  2.78201865e-05,  1.24683875e-05,\n",
       "          1.04765668e-05,  7.76258004e-06,  6.01957815e-06,\n",
       "          4.35536499e-06],\n",
       "        [-6.44796256e-05, -4.31768690e-05,  3.04137122e-05,\n",
       "          3.44958549e-05,  4.56129329e-05,  1.85225988e-05,\n",
       "          4.25448224e-05, -7.95413641e-06,  1.79290558e-05,\n",
       "          1.04139627e-05,  2.69416431e-05,  1.54222582e-05,\n",
       "          1.69855927e-05,  1.91843118e-05,  2.34472090e-05,\n",
       "          2.48804466e-05,  2.58577099e-05,  2.79293999e-05,\n",
       "          2.78201865e-05,  5.31104669e-05,  1.86150610e-05,\n",
       "          1.28654489e-05,  9.24393567e-06,  6.99252627e-06,\n",
       "          6.27949947e-06],\n",
       "        [-2.50243665e-05,  1.03053743e-04,  7.92924245e-05,\n",
       "          2.78608484e-05,  2.66159928e-05,  8.74138858e-06,\n",
       "          2.36374519e-05,  1.81652439e-05,  1.62679351e-05,\n",
       "          1.27220225e-05,  1.46710993e-05,  9.02276015e-06,\n",
       "          9.90916485e-06,  1.13740539e-05,  1.10022850e-05,\n",
       "          1.41889247e-05,  1.61222551e-05,  1.66841932e-05,\n",
       "          1.24683875e-05,  1.86150610e-05,  3.39429807e-05,\n",
       "          1.45576442e-05,  9.34032994e-06,  6.97425223e-06,\n",
       "          4.34540369e-06],\n",
       "        [ 9.13624384e-06,  4.22029435e-05, -1.91166838e-05,\n",
       "          7.73936265e-06,  3.32141617e-05,  1.59417342e-05,\n",
       "          2.85349903e-05,  3.49123931e-06,  7.41724115e-06,\n",
       "          5.42468034e-06,  4.52807156e-06,  5.63843619e-06,\n",
       "          1.04123555e-05,  6.75607049e-06,  8.59111986e-06,\n",
       "          1.16260390e-05,  1.30837443e-05,  1.26045270e-05,\n",
       "          1.04765668e-05,  1.28654489e-05,  1.45576442e-05,\n",
       "          2.55508288e-05,  1.20029701e-05,  7.72542276e-06,\n",
       "          5.37157704e-06],\n",
       "        [ 8.00852703e-05,  3.86949397e-05, -1.04156801e-05,\n",
       "          7.99779005e-06,  2.23788197e-05,  2.16411975e-05,\n",
       "          2.54671807e-05,  1.70465590e-05,  5.92655721e-06,\n",
       "          4.36845234e-06,  3.05032562e-06,  5.60065221e-06,\n",
       "          7.67891095e-06,  5.35175551e-06,  8.52267135e-06,\n",
       "          5.95019582e-06,  8.95661138e-06,  1.11146467e-05,\n",
       "          7.76258004e-06,  9.24393567e-06,  9.34032994e-06,\n",
       "          1.20029701e-05,  1.95225460e-05,  9.10381852e-06,\n",
       "          5.73470975e-06],\n",
       "        [ 6.03061245e-06, -2.26595937e-05, -7.52433357e-06,\n",
       "         -1.17558346e-05,  2.75255231e-05,  1.52248228e-05,\n",
       "          1.07722945e-05,  1.85526738e-05,  4.80228353e-06,\n",
       "          1.37400259e-06,  5.15391601e-06,  6.50474197e-06,\n",
       "          6.27030821e-06,  4.44134354e-06,  7.43899616e-06,\n",
       "          4.51942945e-06,  7.43865397e-06,  8.56193062e-06,\n",
       "          6.01957815e-06,  6.99252627e-06,  6.97425223e-06,\n",
       "          7.72542276e-06,  9.10381852e-06,  1.60840651e-05,\n",
       "          8.24046444e-06],\n",
       "        [ 1.50336006e-05, -2.90507463e-05,  5.49532860e-06,\n",
       "         -1.07070964e-05,  2.19734899e-05,  9.14381277e-06,\n",
       "          7.97314445e-06, -7.05427049e-07,  9.39362535e-06,\n",
       "          3.38146034e-06,  2.88472876e-06,  6.33035163e-06,\n",
       "          4.22958543e-06,  2.88804290e-06,  3.71887619e-06,\n",
       "          4.34526127e-06,  5.37127515e-06,  8.02028240e-06,\n",
       "          4.35536499e-06,  6.27949947e-06,  4.34540369e-06,\n",
       "          5.37157704e-06,  5.73470975e-06,  8.24046444e-06,\n",
       "          1.21489837e-05]]))"
      ]
     },
     "execution_count": 9,
     "metadata": {},
     "output_type": "execute_result"
    }
   ],
   "source": [
    "get_data_vec = lambda prof: (prof['r'], prof['dens'], prof['cov'])\n",
    "\n",
    "get_data_vec(mbins[0]['prof'])"
   ]
  },
  {
   "cell_type": "code",
   "execution_count": null,
   "metadata": {},
   "outputs": [],
   "source": [
    "#Save chains\n",
    "import pickle as pkl\n",
    "for i, mbin in enumerate(mbins):\n",
    "    with open(f\"chain{i}.bin\", \"wb\") as file:\n",
    "        pkl.dump(mbin['chain'], file)"
   ]
  },
  {
   "cell_type": "code",
   "execution_count": null,
   "metadata": {},
   "outputs": [],
   "source": [
    "#Load chains\n",
    "import pickle as pkl\n",
    "for i, mbin in enumerate(mbins):\n",
    "    with open(f\"chain{i}.bin\", \"rb\") as file:\n",
    "        mbin['chain'] = pkl.load(file)"
   ]
  },
  {
   "cell_type": "markdown",
   "metadata": {},
   "source": [
    "# Plot Galaxy Profiles with Best Fit"
   ]
  },
  {
   "cell_type": "code",
   "execution_count": null,
   "metadata": {},
   "outputs": [],
   "source": [
    "# Get maximum likelihood\n",
    "for mbin in mbins:\n",
    "    chain = mbin['chain']\n",
    "    mbin['mle'] = chain.samples['theta'][np.argmin(chain.loglikes)]"
   ]
  },
  {
   "cell_type": "markdown",
   "metadata": {},
   "source": [
    "##### **Plot the galaxy density profiles with the bestfit**\n",
    "\n",
    "Check if the fits worked"
   ]
  },
  {
   "cell_type": "code",
   "execution_count": null,
   "metadata": {},
   "outputs": [],
   "source": [
    "r_thr = np.logspace(-1, np.log10(7), 100)\n",
    "\n",
    "fig, axs = plt.subplots(2, 3)\n",
    "fig.set_size_inches(15,9)\n",
    "\n",
    "for ax, mbin in zip(axs.flatten(), mbins):\n",
    "    prof = mbin['prof']\n",
    "\n",
    "    #Plot profile\n",
    "    ax.errorbar(prof['r'], prof['dens'], yerr = np.sqrt(np.diag(prof['cov'])), color = 'r', linewidth = 0.8)\n",
    "\n",
    "    #Set axes\n",
    "    ax.set_xscale('log')\n",
    "    ax.set_yscale('log')\n",
    "    ax.set_ylabel(r\"$\\Sigma$\", fontsize=14)\n",
    "    ax.set_xlabel(r\"$r/R_{200m}$\", fontsize=14)\n",
    "    \n",
    "    #Plot theory curves\n",
    "    ax.plot(r_thr, fit_profs.sigma(fit_profs.rho_d22)(mbin['mle'], r_thr), color='k', linewidth=0.7)\n",
    "    \n",
    "    #Label\n",
    "    ax.text(0.03, 0.05, mbin['bounds'], transform=ax.transAxes, fontsize=13)\n",
    "\n",
    "plt.tight_layout()"
   ]
  },
  {
   "cell_type": "markdown",
   "metadata": {},
   "source": [
    "##### **Determine splashback posterior**\n",
    "\n",
    "We can then determine the splashback radius by looping through the samples in the chain and determining the location of minimum log derivative for each sample. I will only do this for one of the cluster mass bins for now"
   ]
  },
  {
   "cell_type": "code",
   "execution_count": null,
   "metadata": {
    "scrolled": true
   },
   "outputs": [],
   "source": [
    "from tqdm import tqdm\n",
    "import os\n",
    "import joblib\n",
    "\n",
    "if 'OMP_NUM_THREADS' in os.environ.keys():\n",
    "    n_threads = int(os.environ['OMP_NUM_THREADS'])\n",
    "else:\n",
    "    n_threads = os.cpu_count()\n",
    "\n",
    "#Radii at which log derivs are recorded for graphing\n",
    "r_graph = np.logspace(-1, np.log10(7), 26)\n",
    "#Radii at which log derivs are calculated and the minimum is taken for rsp calc\n",
    "r_guess = np.logspace(-1, np.log10(7), 1000)\n",
    "\n",
    "for mbin in mbins:\n",
    "    chain = mbin['chain']\n",
    "    samps = chain.samples['theta']\n",
    "    n = chain.n_samp\n",
    "\n",
    "    def get_log_derivs(ind):\n",
    "        samp = samps[ind]\n",
    "        return fit_profs.log_deriv_d22(samp, r_graph)\n",
    "        \n",
    "    def get_rsps(ind):\n",
    "        samp = samps[ind]\n",
    "        log_derivs = fit_profs.log_deriv_d22(samp, r_guess)\n",
    "        return r_guess[np.argmin(log_derivs)]\n",
    "    \n",
    "    \n",
    "    log_deriv = np.array(joblib.Parallel(n_threads)(joblib.delayed(get_log_derivs)(i)\n",
    "                                           for i in tqdm(range(n))))\n",
    "    \n",
    "    rsp = np.array(joblib.Parallel(n_threads)(joblib.delayed(get_rsps)(i)\n",
    "                                           for i in tqdm(range(n))))\n",
    "    \n",
    "    chain.add_samps(log_deriv = log_deriv, rsp = rsp)"
   ]
  },
  {
   "cell_type": "markdown",
   "metadata": {},
   "source": [
    "##### **Plot splashback posterior**"
   ]
  },
  {
   "cell_type": "code",
   "execution_count": null,
   "metadata": {
    "scrolled": false
   },
   "outputs": [],
   "source": [
    "ax = plt.gca()\n",
    "ax.set_xlabel(\"Rsp (Mpc/h)\")\n",
    "for i, mbin in enumerate(mbins):\n",
    "    mbin['chain'].plot_1d_posterior('rsp', ax, label = mbin['bounds'], color = mbin['color'])\n"
   ]
  },
  {
   "cell_type": "code",
   "execution_count": null,
   "metadata": {},
   "outputs": [],
   "source": [
    "from scipy.interpolate import CubicSpline\n",
    "\n",
    "def plot_log_deriv_processed(ax, chain, r_log_deriv, r_thr, **kwargs):\n",
    "    \"\"\"\n",
    "    Plot smoothed density curve of splashback posterior\n",
    "    \"\"\"\n",
    "    \n",
    "    # Get 1 sigma interval on the derived chains\n",
    "    \n",
    "    lower_pts, upper_pts = chain.confidence_interval('log_deriv')\n",
    "    \n",
    "    lower_spline = CubicSpline(r_log_deriv, lower_pts)\n",
    "    upper_spline = CubicSpline(r_log_deriv, upper_pts)\n",
    "    \n",
    "    ax.fill_between(r_thr, lower_spline(r_thr), upper_spline(r_thr), alpha=0.5, **kwargs)\n",
    "    ax.set_xscale('log')\n",
    "\n",
    "r_thr = np.logspace(-1, np.log10(5), 100)\n",
    "# Unstacked\n",
    "# # Initialize Figure   \n",
    "# fig, axs = plt.subplots(2, 3)\n",
    "# fig.set_size_inches(15, 8)\n",
    "\n",
    "# # Plot subplots and set axis label\n",
    "\n",
    "# for mbin, ax in zip(mbins, axs.flatten()):\n",
    "#     ax.set_xlabel(r\"$r/R_{200m}$\", fontsize=14)\n",
    "#     ax.set_ylabel(r\"$d\\log\\rho/d\\log r$\", fontsize=14)\n",
    "    \n",
    "#     plot_log_deriv_processed(ax, mbin['chain'], r_graph, r_thr)\n",
    "    \n",
    "# Stacked\n",
    "ax = plt.gca()\n",
    "ax.set_xlabel(\"R200m\")\n",
    "ax.set_ylabel(r\"$\\frac{d\\log\\rho}{d\\log r}$\", fontsize = 14)\n",
    "for mbin in mbins:\n",
    "    plot_log_deriv_processed(ax, mbin['chain'], r_graph, r_thr, label = mbin['bounds'], color = mbin['color'])\n",
    "    ax.legend(loc = 3)\n",
    "    \n",
    "plt.tight_layout()"
   ]
  },
  {
   "cell_type": "code",
   "execution_count": null,
   "metadata": {
    "scrolled": true
   },
   "outputs": [],
   "source": [
    "#As bar chart\n",
    "ax = plt.gca()\n",
    "y, yerr = zip(*[mbin['chain'].get_samp_stats('rsp') for mbin in mbins])\n",
    "x = [f\"{np.log10(edge):.2f}\" for edge in bound_edges[:-1]]\n",
    "color = [mbin['color'] for mbin in mbins]\n",
    "ax.bar(x, y, yerr = yerr, align = 'edge', color = color, width = 1)\n",
    "ax.set_ylabel(\"Rsp ($Mpc/h$)\")\n",
    "ax.set_xlabel(r\"Msp ($M_\\odot$)\")"
   ]
  },
  {
   "cell_type": "markdown",
   "metadata": {},
   "source": [
    "##### **Plot constraints on logarithmic derivative**"
   ]
  },
  {
   "cell_type": "markdown",
   "metadata": {},
   "source": [
    "# Splashback Mass"
   ]
  },
  {
   "cell_type": "markdown",
   "metadata": {},
   "source": [
    "Code creating a chain of msps for every cluster - splashback posterior sample combination (takes very long to run)"
   ]
  },
  {
   "cell_type": "code",
   "execution_count": null,
   "metadata": {
    "scrolled": true
   },
   "outputs": [],
   "source": [
    "# from colossus.halo import profile_diemer22, concentration\n",
    "# from colossus.cosmology import cosmology\n",
    "# cosmology.setCosmology('planck18')\n",
    "\n",
    "# def get_msp_posterior(mbin):\n",
    "#     clusters = mbin['clusters']\n",
    "#     n_clusters = len(clusters['R200m'])\n",
    "#     chain = mbin['chain']\n",
    "    \n",
    "#     def get_msps(ind):\n",
    "#         M200m = clusters['M200m'][ind]\n",
    "#         cosmology.setCosmology('planck18')\n",
    "#         c, _ = concentration.modelBhattacharya13(M200m, redshift, mdef = '200m')\n",
    "#         prof = profile_diemer22.ModelAProfile(M = M200m, c = c, mdef = '200m', z = redshift)\n",
    "        \n",
    "#         R200m = clusters['R200m'][ind]\n",
    "#         rsp = chain.samples['rsp'] * R200m * 1000\n",
    "#         return np.array([prof.enclosedMass(rsp_i) for rsp_i in rsp])\n",
    "    \n",
    "#     msps = np.concatenate(np.array(joblib.Parallel(n_threads)(joblib.delayed(get_msps)(i)\n",
    "#                                            for i in tqdm(range(n_clusters)))))\n",
    "    \n",
    "#     weights = np.tile(chain.weights, n_clusters)/n_clusters\n",
    "#     return McChain(weights = weights, msps = msps)\n",
    "\n",
    "# for mbin in mbins:\n",
    "#     mbin['msp_chain'] = get_msp_posterior(mbin)"
   ]
  },
  {
   "cell_type": "markdown",
   "metadata": {},
   "source": [
    "Code calculating the msp for every splashback posterior sample with the average M200m and R200m of the mass bin"
   ]
  },
  {
   "cell_type": "code",
   "execution_count": null,
   "metadata": {
    "scrolled": false
   },
   "outputs": [],
   "source": [
    "from colossus.halo import profile_diemer22, concentration\n",
    "from colossus.cosmology import cosmology\n",
    "cosmology.setCosmology('planck18')\n",
    "\n",
    "def get_msp_posterior(mbin):\n",
    "    clusters = mbin['clusters']\n",
    "    \n",
    "    #Generate profile\n",
    "    M200m = np.mean(clusters['M200m'])\n",
    "    c, _ = concentration.modelBhattacharya13(M200m, redshift, mdef = '200m')\n",
    "    prof = profile_diemer22.ModelAProfile(M = M200m, c = c, mdef = '200m', z = redshift)\n",
    "    \n",
    "    #Get splashback mass and add to chain\n",
    "    chain = mbin['chain']\n",
    "    R200m = np.mean(clusters['R200m'])\n",
    "    rsp = chain.samples['rsp'] * R200m * 1000\n",
    "    masses = np.array([prof.enclosedMass(rsp_i) for rsp_i in rsp])\n",
    "    chain.add_samps(mass = masses)\n",
    "    return masses\n",
    "\n",
    "for mbin in mbins:\n",
    "    get_msp_posterior(mbin)\n",
    "\n",
    "# def msp_post_estimate(mass_fn, label, mbin):\n",
    "#     R200m = np.average(mbin['clusters']['R200m'])\n",
    "#     chain = mbin['chain']\n",
    "#     rsp = chain.samples['rsp'] * R200m * 1000\n",
    "#     alpha = 10**chain.samples['theta'][:, 0]\n",
    "#     log_msp = np.log10(np.array([mass_fn(rsp[i], alpha[i], redshift) for i in range(chain.n_samp)]))\n",
    "#     chain.add_samps(**{label: log_msp})\n",
    "#     return log_msp\n",
    "\n",
    "# def estimate(Rsp, alpha, z):\n",
    "#     if alpha < 0.155:\n",
    "#         return float(\"nan\")\n",
    "#     return calc_mass.Method1(Rsp, alpha, z)\n",
    "\n",
    "# ax = plt.gca()\n",
    "# for i, mbin in enumerate(mbins):\n",
    "#     msp_post_estimate(estimate, 'log_msp_estimate', mbin)\n",
    "#     mbin['chain'].plot_1d_posterior('log_msp_estimate', ax, label = mbin['bounds'])\n",
    "    "
   ]
  },
  {
   "cell_type": "markdown",
   "metadata": {},
   "source": [
    "## Plot Splashback Mass Posteriors"
   ]
  },
  {
   "cell_type": "code",
   "execution_count": null,
   "metadata": {},
   "outputs": [],
   "source": [
    "ax = plt.gca()\n",
    "for mbin in mbins:\n",
    "    chain = mbin['chain']\n",
    "    chain.add_samps(log_mass = np.log10(chain.samples['mass']))\n",
    "    chain.plot_1d_posterior('log_mass', ax, label = mbin['bounds'])\n",
    "ax.set_xlabel(\"log Splashback Mass\")"
   ]
  },
  {
   "cell_type": "code",
   "execution_count": null,
   "metadata": {},
   "outputs": [],
   "source": [
    "x = []\n",
    "y = []\n",
    "xerr = []\n",
    "yerr = []\n",
    "ax = plt.gca()\n",
    "for mbin in mbins:\n",
    "    R200m = np.mean(mbin['clusters']['R200m'])\n",
    "    chain = mbin['chain']\n",
    "    mu_rsp, sigma_rsp = chain.get_samp_stats('rsp')\n",
    "    mu_mass, sigma_mass = chain.get_samp_stats('mass')\n",
    "    x.append(mu_rsp * R200m)\n",
    "    y.append(mu_mass)\n",
    "    xerr.append(sigma_rsp * R200m)\n",
    "    yerr.append(sigma_mass)\n",
    "ax.errorbar(x = x, y = y, xerr = xerr, yerr = yerr)\n",
    "ax.set_xlabel(\"Splashback Radius\")\n",
    "ax.set_ylabel(\"Splashback Mass\")"
   ]
  },
  {
   "cell_type": "code",
   "execution_count": null,
   "metadata": {},
   "outputs": [],
   "source": [
    "import pickle"
   ]
  },
  {
   "cell_type": "code",
   "execution_count": null,
   "metadata": {},
   "outputs": [],
   "source": [
    "np.save('rsp', x)\n",
    "np.save('msp', y)\n",
    "np.save('rsp_err', xerr)\n",
    "np.save('msp_err', yerr)"
   ]
  },
  {
   "cell_type": "code",
   "execution_count": null,
   "metadata": {},
   "outputs": [],
   "source": [
    "mbin['prof']"
   ]
  },
  {
   "cell_type": "code",
   "execution_count": null,
   "metadata": {},
   "outputs": [],
   "source": []
  }
 ],
 "metadata": {
  "kernelspec": {
   "display_name": "Python 3 (ipykernel)",
   "language": "python",
   "name": "python3"
  },
  "language_info": {
   "codemirror_mode": {
    "name": "ipython",
    "version": 3
   },
   "file_extension": ".py",
   "mimetype": "text/x-python",
   "name": "python",
   "nbconvert_exporter": "python",
   "pygments_lexer": "ipython3",
   "version": "3.9.12"
  }
 },
 "nbformat": 4,
 "nbformat_minor": 4
}
