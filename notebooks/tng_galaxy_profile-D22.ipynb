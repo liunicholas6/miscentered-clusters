{
 "cells": [
  {
   "cell_type": "markdown",
   "metadata": {},
   "source": [
    "## **Compute and fit galaxy profiles in IllustrisTNG**\n",
    "\n",
    "This notebook contains code for computing a galaxy profile from the IllustrisTNG simulations and then fitting it with the Diemer-Kravstov 2014 fitting formula. In addition to using the $\\texttt{splashback_tools}$ code in this repository, it also uses the $\\texttt{illustris_python}$ package which is available at: https://github.com/illustristng/illustris_python"
   ]
  },
  {
   "cell_type": "code",
   "execution_count": 1,
   "metadata": {},
   "outputs": [
    {
     "data": {
      "image/png": "[encoded data removed]",
      "text/plain": [
       "<Figure size 432x288 with 1 Axes>"
      ]
     },
     "metadata": {
      "image/png": {
       "height": 252,
       "width": 380
      },
      "needs_background": "light"
     },
     "output_type": "display_data"
    }
   ],
   "source": [
    "from splashback_tools.profiles import fit_d22, calc_profs, calc_profs_2d, mc_chain\n",
    "import illustris_python as il\n",
    "import numpy as np\n",
    "import os\n",
    "import matplotlib.pyplot as plt\n",
    "\n",
    "%config InlineBackend.figure_format='retina'   # Makes inline plots look better (at least on mac)\n",
    "\n",
    "from itertools import tee\n",
    "def pairwise(iterable):\n",
    "    a, b = tee(iterable)\n",
    "    next(b, None)\n",
    "    return list(zip(a, b))"
   ]
  },
  {
   "cell_type": "markdown",
   "metadata": {},
   "source": [
    "#### **Load simulation data**\n",
    "\n",
    "First we need to load the relevant python packages, as well as the IllustrisTNG simulation data. In this case, I have already downloaded the snapshot 99 group catalog from the TNG-300_3 simulation and saved it in $\\texttt{sample_data/TNG300_3/}$. \n",
    "\n",
    "\n",
    "Snapshot 99 corresponds to redshift $z=0$ (i.e. present day). The group catalog contains information such as the mass and location of clusters, as well as that of galaxies (subhalos). The remainder of the simulation information is stored in the snapshot files which contain all of the particle locations and are much larger. We use three functions from the **illustris_python** package\n",
    "\n",
    "* **il.groupcat.loadHeader:** loads the header file which contains general information about the simulation you are considering. (If you want to see everything contained in the header, you can execute \"print(header)\")\n",
    "* **il.groupcat.loadHalos:** loads the halo catalog which contains various halo quantities (listed here: https://www.tng-project.org/data/docs/specifications/#sec2a). In this case I just load their GroupPos, M200m, and R200m. The GroupPos is defined as the center of the most gravitationally bound particle in the halo.\n",
    "* **il.groupcat.loadSubhalos:** loads the subhalo catalog which contains information about the subhalos (galaxies). All available quantities are listed here: https://www.tng-project.org/data/docs/specifications/#sec2b. Here I load the SubhaloPos, SubhaloFlag, and SubhaloMassType. SubhaloFlag just indicates some subhalos that should generally be excluded from an analysis. SubhaloMassType is a $N_{\\rm subhalo}\\times 6$ dimensional array containing the mass of each particle type in the subhalo. I use this to place a cut on the stellar mass of the subhalos we use."
   ]
  },
  {
   "cell_type": "code",
   "execution_count": 2,
   "metadata": {},
   "outputs": [
    {
     "name": "stdout",
     "output_type": "stream",
     "text": [
      "Loading Header:\n",
      "Loading Group Catalog:\n",
      "Loading Subhalo Catalog\n"
     ]
    }
   ],
   "source": [
    "# Specify simulation and snapshot here\n",
    "snapshot_ind = 99\n",
    "base_path    = 'sample_data/TNG300_3'\n",
    "print(\"Loading Header:\")\n",
    "header = il.groupcat.loadHeader(base_path, snapshot_ind)\n",
    "redshift = header['Redshift']\n",
    "scale_factor = 1/(1+redshift)\n",
    "boxsize = header['BoxSize']/1000*scale_factor #  Mpc/h\n",
    "\n",
    "# Load group\n",
    "print(\"Loading Group Catalog:\")\n",
    "halo_cat_fields = ['GroupPos', 'Group_M_Mean200',  'Group_R_Mean200']\n",
    "halo_cat = il.groupcat.loadHalos(base_path, snapshot_ind, halo_cat_fields)\n",
    "\n",
    "\n",
    "print(\"Loading Subhalo Catalog\")\n",
    "fields = ['SubhaloPos', 'SubhaloMassType', 'SubhaloFlag']\n",
    "subhalo_cat = il.groupcat.loadSubhalos(base_path, snapshot_ind, fields)"
   ]
  },
  {
   "cell_type": "markdown",
   "metadata": {},
   "source": [
    "#### **Compute Profiles**\n",
    "\n",
    "Now we can use the functions from $\\texttt{splashback_tools}$ to compute some density profiles. The profile calculation code needs us to specify the location of the cluster centers, as well as the location of the subhalos we are interested in analyzing."
   ]
  },
  {
   "cell_type": "code",
   "execution_count": 3,
   "metadata": {},
   "outputs": [],
   "source": [
    "mbins = [{}, {}, {}]"
   ]
  },
  {
   "cell_type": "markdown",
   "metadata": {},
   "source": [
    "##### **Load Clusters**\n",
    "First we will select the clusters. In this case, I will select clusters using three mass bins  with $M_{\\rm 200m}$ between $1e13.0$ and $1e14.5$ $M_{\\odot}/h$. The clusters are stored in the halo catalogue."
   ]
  },
  {
   "cell_type": "code",
   "execution_count": 4,
   "metadata": {},
   "outputs": [
    {
     "name": "stdout",
     "output_type": "stream",
     "text": [
      "Number of halos selected in this mass bin: 2655\n",
      "Number of halos selected in this mass bin: 919\n",
      "Number of halos selected in this mass bin: 211\n"
     ]
    }
   ],
   "source": [
    "def get_groups(halo_cat, min_mass, max_mass, N_groups=None):\n",
    "    \"\"\"\n",
    "    Returns group centers, R200m, and M200m for groups in a mass [min_mass, max_mass].\n",
    "    min_mass and max_mass must be specified in Msun/h. N_groups sets a maximum number of \n",
    "    groups/clusters to consider. For low mass groups, there can be many clusters between\n",
    "    min_mass and max_mass, so setting N_groups can make things faster if you don't want\n",
    "    to look at every cluster.\n",
    "    \"\"\"\n",
    "\n",
    "    inds = np.where((halo_cat['Group_M_Mean200']*10**10 > min_mass) &\n",
    "                    (halo_cat['Group_M_Mean200']*10**10 < max_mass))[0]\n",
    "\n",
    "    if N_groups is not None:\n",
    "        assert N_groups < len(inds), \"Too many halos requested. Maximum for this mass range is {}\".format(len(inds))\n",
    "\n",
    "        inds = np.random.choice(inds, N_groups, replace=False)\n",
    "\n",
    "    print(\"Number of halos selected in this mass bin: \"+str(len(inds)))\n",
    "\n",
    "    halo_centers = halo_cat['GroupPos'][inds]/1000*scale_factor      # Mpc/h\n",
    "    halo_R200m = halo_cat['Group_R_Mean200'][inds]/1000*scale_factor # Mpc/h\n",
    "    halo_M200m = halo_cat['Group_M_Mean200'][inds]*10**10            # Msun/h\n",
    "\n",
    "    return {\"pos\": halo_centers, \"R200m\": halo_R200m, \"M200m\": halo_M200m}\n",
    "\n",
    "bounds = pairwise([10**13, 10**13.5, 10**14, 10**14.5])\n",
    "bounds_labels = [f\"{l} < M200m < {r}\" for l, r in pairwise([\"1e13\", \"1e13.5\", \"1e14\", \"1e14.5\"])]\n",
    "                 \n",
    "for i in range(3):\n",
    "    l, r = bounds[i]\n",
    "    mbins[i]['clusters'] = get_groups(halo_cat, l, r)\n",
    "    mbins[i]['bounds'] = bounds_labels[i]"
   ]
  },
  {
   "cell_type": "markdown",
   "metadata": {},
   "source": [
    "##### **Load galaxies/subhalos**\n",
    "Now we can select some galaxies. In this case, I will define galaxies as all subhalos that have mass greater than $10^8 \\ M_{\\rm sun}/h$ and have SubhaloFlag==1. I then want to load in the centers of all subhalos that satisfy these criteria."
   ]
  },
  {
   "cell_type": "code",
   "execution_count": 5,
   "metadata": {},
   "outputs": [
    {
     "name": "stdout",
     "output_type": "stream",
     "text": [
      "Total number of subhalos selected: 57355\n"
     ]
    }
   ],
   "source": [
    "def get_subhalos(subhalo_cat, min_stellar_mass=10**8):\n",
    "    \"\"\"\n",
    "    Returns subhalo centers, spins, SFR, and photometrics for a fixed stellar mass cut\n",
    "    \"\"\"\n",
    "\n",
    "    inds = np.where((subhalo_cat['SubhaloFlag']==1)  &\n",
    "                    (subhalo_cat['SubhaloMassType'].T[4]*10**10>min_stellar_mass))[0]\n",
    "\n",
    "    print(\"Total number of subhalos selected: \"+str(len(inds)))\n",
    "    return subhalo_cat['SubhaloPos'][inds]/1000*scale_factor      # Mpc/h\n",
    "\n",
    "subhalos = get_subhalos(subhalo_cat)"
   ]
  },
  {
   "cell_type": "markdown",
   "metadata": {},
   "source": [
    "##### **Compute the galaxy radial density profile**\n",
    "\n",
    "Having identified the centers of clusters we are interested in, as well as the centers of the galaxies we are interested in, we can now compute the density profile. All we need to do is specify the radial bins and some profile weighting options. For the binning I use 25 logarithmically spaced bins between $0.1$ and $7$ $R_{\\rm 200m}$. Note that the binning can be in units of Mpc/h or R200m depending on if you specify $\\texttt{R200m_arr}$ in the $\\texttt{compute_avg_profiles}$ function. Some more details on the $\\texttt{compute_avg_profiles}$ are listed below:\n",
    "\n",
    "* The first two arguments are the centers of the clusters and the centers of the galaxies. \n",
    "* The third argument is the radial bins\n",
    "* Boxsize must be given in the same units as the first two arguments. This is needed to account for periodic boundary conditions of the simulation\n",
    "* R200m_arr: optional argument that if specified consists of the R200m values of the clusters selected and will bin the profiles in units of r/R200m.\n",
    "* weights:   optional argument if you want to weight the galaxies/particles differently. Default is equal weighting.\n",
    "* bin_stat:  optional argument specifying the statistic you want to apply over the individual profiles. The default is mean.\n",
    "* return_mat: optional boolean that (if true) will also return an array consisting of the individual profiles for each cluster.\n",
    "\n",
    "\n",
    "There are some additional arguments for this function and more details in the source code. The additional arguments are mostly relevant if you are interested in other profile types (e.g. velocity dispersion, etc.)"
   ]
  },
  {
   "cell_type": "code",
   "execution_count": 8,
   "metadata": {},
   "outputs": [
    {
     "name": "stdout",
     "output_type": "stream",
     "text": [
      "\n",
      "\n",
      "Computing stacked dens profiles for 2655 halos:\n",
      "-> profiles will be binned in units of r/R200m \n",
      "-> no weights specified -- assuming equal particle weighting.\n"
     ]
    },
    {
     "name": "stderr",
     "output_type": "stream",
     "text": [
      "100%|█████████████████████████████████████████████████████████████████████████████| 2655/2655 [00:00<00:00, 7045.62it/s]\n"
     ]
    },
    {
     "name": "stdout",
     "output_type": "stream",
     "text": [
      "Individual profiles computed. Now computing averaged profile!\n"
     ]
    },
    {
     "name": "stderr",
     "output_type": "stream",
     "text": [
      "100%|█████████████████████████████████████████████████████████████████████████████| 2655/2655 [00:00<00:00, 8665.08it/s]\n"
     ]
    },
    {
     "name": "stdout",
     "output_type": "stream",
     "text": [
      "Individual profiles computed. Now computing averaged profile!\n",
      "\n",
      "\n",
      "Computing stacked dens profiles for 919 halos:\n",
      "-> profiles will be binned in units of r/R200m \n",
      "-> no weights specified -- assuming equal particle weighting.\n"
     ]
    },
    {
     "name": "stderr",
     "output_type": "stream",
     "text": [
      "100%|███████████████████████████████████████████████████████████████████████████████| 919/919 [00:00<00:00, 4075.27it/s]\n"
     ]
    },
    {
     "name": "stdout",
     "output_type": "stream",
     "text": [
      "Individual profiles computed. Now computing averaged profile!\n"
     ]
    },
    {
     "name": "stderr",
     "output_type": "stream",
     "text": [
      "100%|███████████████████████████████████████████████████████████████████████████████| 919/919 [00:00<00:00, 4926.94it/s]\n"
     ]
    },
    {
     "name": "stdout",
     "output_type": "stream",
     "text": [
      "Individual profiles computed. Now computing averaged profile!\n",
      "\n",
      "\n",
      "Computing stacked dens profiles for 211 halos:\n",
      "-> profiles will be binned in units of r/R200m \n",
      "-> no weights specified -- assuming equal particle weighting.\n"
     ]
    },
    {
     "name": "stderr",
     "output_type": "stream",
     "text": [
      "100%|███████████████████████████████████████████████████████████████████████████████| 211/211 [00:00<00:00, 1579.87it/s]\n"
     ]
    },
    {
     "name": "stdout",
     "output_type": "stream",
     "text": [
      "Individual profiles computed. Now computing averaged profile!\n"
     ]
    },
    {
     "name": "stderr",
     "output_type": "stream",
     "text": [
      "100%|███████████████████████████████████████████████████████████████████████████████| 211/211 [00:00<00:00, 2195.57it/s]\n"
     ]
    },
    {
     "name": "stdout",
     "output_type": "stream",
     "text": [
      "Individual profiles computed. Now computing averaged profile!\n"
     ]
    }
   ],
   "source": [
    "bins = np.logspace(-1, np.log10(7), 26) # Bins (in units of Mpc/h or R200m depending on a flag used in calc_prof)\n",
    "\n",
    "for mbin in mbins:\n",
    "    mbin['prof'] = calc_profs.compute_avg_profiles(mbin['clusters']['pos'], subhalos, bins,\n",
    "                                                   boxsize = boxsize, R200m_arr = mbin['clusters']['R200m'],\n",
    "                                                    weights = None, bin_stat=\"mean\", return_mat = True)\n",
    "    mbin['2d'] = {}\n",
    "    mbin['2d']['prof'] = calc_profs_2d.compute_avg_profiles(mbin['clusters']['pos'], subhalos, bins,\n",
    "                                                   boxsize = boxsize, R200m_arr = mbin['clusters']['R200m'])\n"
   ]
  },
  {
   "cell_type": "markdown",
   "metadata": {},
   "source": [
    "##### **Plot the galaxy density profiles**\n",
    "\n",
    "Before fitting the profiles, we can plot the density profiles to see if they make sense!"
   ]
  },
  {
   "cell_type": "code",
   "execution_count": 22,
   "metadata": {},
   "outputs": [
    {
     "data": {
      "text/plain": [
       "<AxesSubplot:xlabel='$r/R_{200m}$', ylabel='$\\\\rho$'>"
      ]
     },
     "execution_count": 22,
     "metadata": {},
     "output_type": "execute_result"
    },
    {
     "data": {
      "image/png": "[encoded data removed]",
      "text/plain": [
       "<Figure size 432x288 with 1 Axes>"
      ]
     },
     "metadata": {
      "image/png": {
       "height": 276,
       "width": 422
      },
      "needs_background": "light"
     },
     "output_type": "display_data"
    }
   ],
   "source": [
    "def plot_profiles(stack = True):\n",
    "    def set_axis(ax):\n",
    "        ax.set_xscale('log')\n",
    "        ax.set_yscale('log')\n",
    "        ax.set_ylabel(r\"$\\rho$\", fontsize=14)\n",
    "        ax.set_xlabel(r\"$r/R_{200m}$\", fontsize=14)\n",
    "    \n",
    "    if stack:\n",
    "        ax = plt.gca()\n",
    "        set_axis(ax)\n",
    "        for i, mbin in enumerate(mbins):\n",
    "            prof3d = mbin['prof']\n",
    "            prof2d = mbin['2d']['prof']\n",
    "            ax.errorbar(prof3d['r'], prof3d['rho'], yerr = np.sqrt(np.diag(prof3d['cov'])),\n",
    "                        color = 'teal', linewidth = 0.8, label = r'$\\rho$, ' + mbin['bounds'], alpha = (i + 1)/3)\n",
    "            ax.legend(fontsize = 'small')\n",
    "            ax.errorbar(prof2d['r'], prof2d['sigma'], yerr = np.sqrt(np.diag(prof2d['cov'])),\n",
    "                        color = 'maroon', linewidth = 0.8, label = r'$\\Sigma, $' + mbin['bounds'], alpha = (i + 1)/3)\n",
    "            ax.legend(fontsize = 'small')\n",
    "        plt.tight_layout()\n",
    "        return ax\n",
    "        \n",
    "    fig, axs = plt.subplots(1, 3)\n",
    "    fig.set_size_inches(15,4.5)\n",
    "\n",
    "    for i in range(3):\n",
    "        ax = axs[i]\n",
    "        mbin = mbins[i]\n",
    "        prof3d = mbin['prof']\n",
    "        prof2d = mbin['2d']['prof']\n",
    "        \n",
    "        set_axis(ax)\n",
    "\n",
    "        ax.errorbar(prof3d['r'], prof3d['rho'], yerr = np.sqrt(np.diag(prof3d['cov'])),\n",
    "                        color = 'teal', linewidth = 0.8, label = r'$\\rho$')\n",
    "        ax.legend()\n",
    "        ax.errorbar(prof2d['r'], prof2d['sigma'], yerr = np.sqrt(np.diag(prof2d['cov'])),\n",
    "                    color = 'maroon', linewidth = 0.8, label = r'$\\Sigma$')\n",
    "        ax.legend()\n",
    "        \n",
    "        ax.text(0.03, 0.05, mbin['bounds'], transform=ax.transAxes, fontsize=13)        \n",
    "    plt.tight_layout()\n",
    "    return axs\n",
    "\n",
    "plot_profiles(stack = True)"
   ]
  },
  {
   "cell_type": "markdown",
   "metadata": {},
   "source": [
    "##### **Fit the galaxy density profiles**\n",
    "\n",
    "Now we can fit the profiles and estimate the splashback radii. All we need to do is run the fit_profs.fit_DK_14 function with the profiles as input. The input for this function is a tuple of the form (r, rho, cov) so we define a function get_data_vec to format our measured profiles so that they are accepted by the fit_profs_fit_DK_14 function. The fitting function can save the output if a save directory is specified. In this case we do not save the output and instead analyze it in this notebook. \n",
    "\n",
    "You will also need to specify a `basepath` for Multinest to run the sampler. I have specified this as `/u/samgolds/lib/splashback_tools/splashback_tools/multinest_samples`, but it will need to be changed to a directory on the computer you are working on.\n",
    "\n",
    "The output of the fit is an $11 \\times N$ dimensional array where $N$ is the number of multinest samples (multinest determines this based on convergence criterion). The first 9 columns are the DK14 model parameters. The 10th column is the weights and the 11th is the negative log likelihood. So to find the best fit we find the sample with minimum negative log likelihood. In practice we should run a dedicated minimizer afterwards, but this is good enough for now."
   ]
  },
  {
   "cell_type": "code",
   "execution_count": null,
   "metadata": {
    "scrolled": true
   },
   "outputs": [],
   "source": [
    "from splashback_tools.profiles.mc_chain import McChain\n",
    "\n",
    "# Lambda expression to reformat profiles to input expected by fit_DK_14 function\n",
    "get_data_vec = lambda prof: (prof['r'], prof['rho'], prof['cov'])\n",
    "basepath = '/home/liunicholas6/projects/miscentered-clusters/splashback_tools/multinest_samples'\n",
    "\n",
    "def fit_profile(mbin):\n",
    "    data_vec = get_data_vec(mbin['prof'])\n",
    "    fit = fit_d22.fit_d22(data_vec, basepath)\n",
    "    theta = fit[0:9].T\n",
    "    loglikes = fit[-1]\n",
    "    weights = fit[-2]\n",
    "    mbin['chain'] = McChain(weights, loglikes, theta = theta)\n",
    "    \n",
    "for mbin in mbins:\n",
    "    fit_profile(mbin)"
   ]
  },
  {
   "cell_type": "markdown",
   "metadata": {},
   "source": [
    "## Save Checkpoint"
   ]
  },
  {
   "cell_type": "code",
   "execution_count": null,
   "metadata": {},
   "outputs": [],
   "source": [
    "import pickle\n",
    "with open('mbins.pkl', 'wb') as f:\n",
    "    pickle.dump(mbins, f)\n",
    "    f.close()"
   ]
  },
  {
   "cell_type": "code",
   "execution_count": null,
   "metadata": {},
   "outputs": [],
   "source": [
    "from splashback_tools.profiles import fit_d22, calc_mass\n",
    "import pickle\n",
    "import numpy as np\n",
    "import os\n",
    "import matplotlib.pyplot as plt\n",
    "\n",
    "with open('mbins.pkl', 'rb') as f:\n",
    "    mbins = pickle.load(f)"
   ]
  },
  {
   "cell_type": "markdown",
   "metadata": {},
   "source": [
    "# Plot Galaxy Profiles with Best Fit"
   ]
  },
  {
   "cell_type": "code",
   "execution_count": null,
   "metadata": {},
   "outputs": [],
   "source": [
    "# Get maximum likelihood\n",
    "for mbin in mbins:\n",
    "    chain = mbin['chain']\n",
    "    mbin['mle'] = chain.samples['theta'][np.argmin(chain.loglikes)]"
   ]
  },
  {
   "cell_type": "markdown",
   "metadata": {},
   "source": [
    "##### **Plot the galaxy density profiles with the bestfit**\n",
    "\n",
    "Check if the fits worked"
   ]
  },
  {
   "cell_type": "code",
   "execution_count": null,
   "metadata": {},
   "outputs": [],
   "source": [
    "r_thr = np.logspace(-1, np.log10(7), 100)\n",
    "\n",
    "fig, axs = plt.subplots(1, 3)\n",
    "fig.set_size_inches(15,4.5)\n",
    "\n",
    "for i in range(3):\n",
    "    ax = axs[i]\n",
    "    mbin = mbins[i]\n",
    "    prof = mbin['prof']\n",
    "\n",
    "    #Plot profile\n",
    "    ax.errorbar(prof['r'], prof['rho'], yerr = np.sqrt(np.diag(prof['cov'])), color = 'r', linewidth = 0.8)\n",
    "\n",
    "    #Set axes\n",
    "    ax.set_xscale('log')\n",
    "    ax.set_yscale('log')\n",
    "    ax.set_ylabel(r\"$\\rho$\", fontsize=14)\n",
    "    ax.set_xlabel(r\"$r/R_{200m}$\", fontsize=14)\n",
    "    \n",
    "    #Plot theory curves\n",
    "    ax.plot(r_thr, fit_d22.rho_d22(mbin['mle'], r_thr), color='k', linewidth=0.7)\n",
    "\n",
    "axs[0].text(0.03, 0.05, r\"13$<\\log_{10}(M_{200m})<$13.5\",  \n",
    "            transform=axs[0].transAxes, fontsize=13)\n",
    "axs[1].text(0.03, 0.05, r\"13.5$<\\log_{10}(M_{200m})<$14\",  \n",
    "            transform=axs[1].transAxes, fontsize=13)\n",
    "axs[2].text(0.03, 0.05, r\"14$<\\log_{10}(M_{200m})<$14.5\",  \n",
    "            transform=axs[2].transAxes, fontsize=13)\n",
    "\n",
    "plt.tight_layout()"
   ]
  },
  {
   "cell_type": "markdown",
   "metadata": {},
   "source": [
    "##### **Determine splashback posterior**\n",
    "\n",
    "We can then determine the splashback radius by looping through the samples in the chain and determining the location of minimum log derivative for each sample. I will only do this for one of the cluster mass bins for now"
   ]
  },
  {
   "cell_type": "code",
   "execution_count": null,
   "metadata": {
    "scrolled": true
   },
   "outputs": [],
   "source": [
    "from tqdm import tqdm\n",
    "import os\n",
    "import joblib\n",
    "\n",
    "if 'OMP_NUM_THREADS' in os.environ.keys():\n",
    "    n_threads = int(os.environ['OMP_NUM_THREADS'])\n",
    "else:\n",
    "    n_threads = os.cpu_count()\n",
    "    \n",
    "r_log_deriv = np.logspace(-1, np.log10(7), 26)\n",
    "\n",
    "for mbin in mbins:\n",
    "    chain = mbin['chain']\n",
    "    samps = chain.samples['theta']\n",
    "    n = chain.n_samp\n",
    "\n",
    "    def get_log_derivs(ind):\n",
    "        samp = samps[ind]\n",
    "        return fit_d22.log_deriv_d22(samp, r_log_deriv)\n",
    "        \n",
    "    def get_rsps(ind):\n",
    "        samp = samps[ind]\n",
    "        return fit_d22.get_rsp(samp)\n",
    "    \n",
    "    \n",
    "    log_deriv = np.array(joblib.Parallel(n_threads)(joblib.delayed(get_log_derivs)(i)\n",
    "                                           for i in tqdm(range(n))))\n",
    "    \n",
    "    rsp = np.array(joblib.Parallel(n_threads)(joblib.delayed(get_rsps)(i)\n",
    "                                           for i in tqdm(range(n))))\n",
    "    \n",
    "    chain.add_samps(log_deriv = log_deriv, rsp = rsp)"
   ]
  },
  {
   "cell_type": "markdown",
   "metadata": {},
   "source": [
    "##### **Plot splashback posterior**"
   ]
  },
  {
   "cell_type": "code",
   "execution_count": null,
   "metadata": {},
   "outputs": [],
   "source": [
    "ax = plt.gca()\n",
    "for i, mbin in enumerate(mbins):\n",
    "    mbin['chain'].plot('rsp', \"Mbin\" + str(i + 1), (0.7, 1.2), ax)"
   ]
  },
  {
   "cell_type": "markdown",
   "metadata": {},
   "source": [
    "##### **Plot constraints on logarithmic derivative**"
   ]
  },
  {
   "cell_type": "code",
   "execution_count": null,
   "metadata": {
    "scrolled": false
   },
   "outputs": [],
   "source": [
    "from scipy.interpolate import CubicSpline\n",
    "\n",
    "def plot_log_deriv_processed(ax, chain, r_log_deriv, r_thr):\n",
    "    \"\"\"\n",
    "    Plot smoothed density curve of splashback posterior\n",
    "    \"\"\"\n",
    "    \n",
    "    # Get 1 sigma interval on the derived chains\n",
    "    \n",
    "    lower_pts, upper_pts = chain.confidence_interval('log_deriv')\n",
    "    \n",
    "    lower_spline = CubicSpline(r_log_deriv, lower_pts)\n",
    "    upper_spline = CubicSpline(r_log_deriv, upper_pts)\n",
    "    \n",
    "    ax.fill_between(r_thr, lower_spline(r_thr), upper_spline(r_thr), alpha=0.5)\n",
    "    ax.set_xscale('log')\n",
    "\n",
    "# Initialize Figure   \n",
    "fig, ax_arr = plt.subplots(1, 3)\n",
    "fig.set_size_inches(12,3)\n",
    "\n",
    "# Plot subplots and set axis label\n",
    "r_thr = np.logspace(-1, np.log10(5), 100)\n",
    "\n",
    "for i, mbin in enumerate(mbins):\n",
    "    ax = ax_arr[i]\n",
    "    ax.set_xlabel(r\"$r/R_{200m}$\", fontsize=14)\n",
    "    ax.set_ylabel(r\"$d\\log\\rho/d\\log r$\", fontsize=14)\n",
    "    \n",
    "    plot_log_deriv_processed(ax, mbin['chain'], r_log_deriv, r_thr)\n",
    "    \n",
    "\n",
    "plt.tight_layout()\n",
    "    "
   ]
  },
  {
   "cell_type": "markdown",
   "metadata": {},
   "source": [
    "# Ignore these cells (WIP)"
   ]
  },
  {
   "cell_type": "code",
   "execution_count": null,
   "metadata": {},
   "outputs": [],
   "source": [
    "mass_fns = [calc_mass.Method1, calc_mass.Method2, calc_mass.Method3, calc_mass.Method4]\n",
    "def get_masses_with_errors(mbin, mass_fn):\n",
    "    chain = mbin['chain']\n",
    "    mean, var = weighted_mean_var(chain['rsp'], chain['weights'])\n",
    "    sigma = np.sqrt(var)\n",
    "    \n",
    "    alpha = 10**mbin['mle'][0]\n",
    "    build = lambda r: np.array([mass_fn(r_i, alpha, redshift) for r_i in r])\n",
    "    \n",
    "    r_clusters = mbin['clusters']['R200m'] * 1000 #in kpc/h\n",
    "    msp = build(r_clusters * mean)\n",
    "    upper1 = build(r_clusters * (mean + sigma)) - msp\n",
    "    lower1 = msp - build(r_clusters * (mean - sigma))\n",
    "    upper2 = build(r_clusters * (mean + 2 * sigma)) - msp\n",
    "    lower2 = msp - build(r_clusters * (mean - 2 * sigma))\n",
    "    \n",
    "    return (msp, np.stack([lower1, upper1]), np.stack([lower2, upper2]))"
   ]
  },
  {
   "cell_type": "code",
   "execution_count": null,
   "metadata": {},
   "outputs": [],
   "source": [
    "def plot_masses(ax, mbin, mass_fn):\n",
    "    x = mbin['clusters']['M200m']\n",
    "    y, yerr1, yerr2 = get_masses_with_errors(mbin, mass_fn)\n",
    "    ax.scatter(x, y/x)\n",
    "    #ax.errorbar(x, y, yerr=yerr1, alpha = 0.2, color = 'green')\n",
    "    #ax.errorbar(x, y, yerr=yerr2, alpha = 0.1, color = 'green')\n",
    "\n",
    "fig, axs = plt.subplots(1, 3)\n",
    "fig.set_size_inches(15,4.5)\n",
    "\n",
    "\n",
    "for i in range(3):\n",
    "    ax = axs[i]\n",
    "    plot_masses(ax, mbins[i], calc_mass.Method1)\n",
    "    #ax.set_xscale('log')\n",
    "    #ax.set_yscale('log')"
   ]
  }
 ],
 "metadata": {
  "kernelspec": {
   "display_name": "Python 3 (ipykernel)",
   "language": "python",
   "name": "python3"
  },
  "language_info": {
   "codemirror_mode": {
    "name": "ipython",
    "version": 3
   },
   "file_extension": ".py",
   "mimetype": "text/x-python",
   "name": "python",
   "nbconvert_exporter": "python",
   "pygments_lexer": "ipython3",
   "version": "3.9.12"
  }
 },
 "nbformat": 4,
 "nbformat_minor": 4
}
